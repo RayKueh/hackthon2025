{
 "cells": [
  {
   "cell_type": "code",
   "execution_count": 95,
   "id": "da30c417-7542-4e57-a0a4-95fa1841666f",
   "metadata": {
    "execution": {
     "iopub.execute_input": "2025-04-22T23:46:08.373101Z",
     "iopub.status.busy": "2025-04-22T23:46:08.372867Z",
     "iopub.status.idle": "2025-04-22T23:46:08.388069Z",
     "shell.execute_reply": "2025-04-22T23:46:08.387855Z",
     "shell.execute_reply.started": "2025-04-22T23:46:08.373091Z"
    }
   },
   "outputs": [
    {
     "name": "stdout",
     "output_type": "stream",
     "text": [
      "The autoreload extension is already loaded. To reload it, use:\n",
      "  %reload_ext autoreload\n"
     ]
    }
   ],
   "source": [
    "%load_ext autoreload\n",
    "%autoreload 2\n",
    "\n",
    "from scipy.interpolate import griddata\n",
    "import numpy as np\n",
    "from scipy.ndimage import gaussian_filter #從 scipy.ndimage 導入 gaussian_filter\n",
    "from matplotlib import pyplot as plt\n",
    "import pandas as pd\n",
    "import netCDF4 as nc\n",
    "import h5py\n",
    "from numba import jit,njit,prange\n",
    "from numpy import linalg\n",
    "from time import sleep\n",
    "from tqdm import tqdm, trange\n",
    "import torch, torch.linalg\n",
    "from tqdm import tqdm\n",
    "import shutil\n",
    "from time import gmtime, strftime\n",
    "from scipy.fft import *\n",
    "import matplotlib\n",
    "from scipy.stats import gaussian_kde\n",
    "from sklearn.neighbors import KernelDensity\n",
    "from scipy.stats import multivariate_normal\n",
    "import xarray as xr\n",
    "from scipy.interpolate import *\n",
    "# for latex style \n",
    "matplotlib.rcParams['mathtext.fontset'] = 'stix'\n",
    "matplotlib.rcParams['font.family'] = 'STIXGeneral'\n",
    "\n",
    "from os import environ\n",
    "\n",
    "environ['OMP_NUM_THREADS'] = '1'\n",
    "\n",
    "from scipy.spatial import distance_matrix"
   ]
  },
  {
   "cell_type": "code",
   "execution_count": 73,
   "id": "ee26daf5-334d-48e5-9ae6-a410c8c7b3e1",
   "metadata": {
    "execution": {
     "iopub.execute_input": "2025-04-22T23:00:42.380892Z",
     "iopub.status.busy": "2025-04-22T23:00:42.380706Z",
     "iopub.status.idle": "2025-04-22T23:00:42.427743Z",
     "shell.execute_reply": "2025-04-22T23:00:42.427505Z",
     "shell.execute_reply.started": "2025-04-22T23:00:42.380881Z"
    }
   },
   "outputs": [],
   "source": [
    "#data = xr.open_dataset('/work/DATA/CMIP6/freq_day/precipitation_flux/TaiESM1/pr_day_TaiESM1_historical_r1i1p1f1_gn_20000101-20091231.nc')\n",
    "data = xr.open_dataset('/work/DATA/CMIP6/freq_day/precipitation_flux/CMCC-CM2-SR5/pr_day_CMCC-CM2-SR5_historical_r1i1p1f1_gn_19750101-19991231.nc')\n"
   ]
  },
  {
   "cell_type": "code",
   "execution_count": 74,
   "id": "73ff8c31-8f7c-4a6b-a663-91bce56cf83a",
   "metadata": {
    "execution": {
     "iopub.execute_input": "2025-04-22T23:00:44.090655Z",
     "iopub.status.busy": "2025-04-22T23:00:44.090360Z",
     "iopub.status.idle": "2025-04-22T23:00:44.143500Z",
     "shell.execute_reply": "2025-04-22T23:00:44.143311Z",
     "shell.execute_reply.started": "2025-04-22T23:00:44.090645Z"
    }
   },
   "outputs": [
    {
     "data": {
      "text/html": [
       "<div><svg style=\"position: absolute; width: 0; height: 0; overflow: hidden\">\n",
       "<defs>\n",
       "<symbol id=\"icon-database\" viewBox=\"0 0 32 32\">\n",
       "<path d=\"M16 0c-8.837 0-16 2.239-16 5v4c0 2.761 7.163 5 16 5s16-2.239 16-5v-4c0-2.761-7.163-5-16-5z\"></path>\n",
       "<path d=\"M16 17c-8.837 0-16-2.239-16-5v6c0 2.761 7.163 5 16 5s16-2.239 16-5v-6c0 2.761-7.163 5-16 5z\"></path>\n",
       "<path d=\"M16 26c-8.837 0-16-2.239-16-5v6c0 2.761 7.163 5 16 5s16-2.239 16-5v-6c0 2.761-7.163 5-16 5z\"></path>\n",
       "</symbol>\n",
       "<symbol id=\"icon-file-text2\" viewBox=\"0 0 32 32\">\n",
       "<path d=\"M28.681 7.159c-0.694-0.947-1.662-2.053-2.724-3.116s-2.169-2.030-3.116-2.724c-1.612-1.182-2.393-1.319-2.841-1.319h-15.5c-1.378 0-2.5 1.121-2.5 2.5v27c0 1.378 1.122 2.5 2.5 2.5h23c1.378 0 2.5-1.122 2.5-2.5v-19.5c0-0.448-0.137-1.23-1.319-2.841zM24.543 5.457c0.959 0.959 1.712 1.825 2.268 2.543h-4.811v-4.811c0.718 0.556 1.584 1.309 2.543 2.268zM28 29.5c0 0.271-0.229 0.5-0.5 0.5h-23c-0.271 0-0.5-0.229-0.5-0.5v-27c0-0.271 0.229-0.5 0.5-0.5 0 0 15.499-0 15.5 0v7c0 0.552 0.448 1 1 1h7v19.5z\"></path>\n",
       "<path d=\"M23 26h-14c-0.552 0-1-0.448-1-1s0.448-1 1-1h14c0.552 0 1 0.448 1 1s-0.448 1-1 1z\"></path>\n",
       "<path d=\"M23 22h-14c-0.552 0-1-0.448-1-1s0.448-1 1-1h14c0.552 0 1 0.448 1 1s-0.448 1-1 1z\"></path>\n",
       "<path d=\"M23 18h-14c-0.552 0-1-0.448-1-1s0.448-1 1-1h14c0.552 0 1 0.448 1 1s-0.448 1-1 1z\"></path>\n",
       "</symbol>\n",
       "</defs>\n",
       "</svg>\n",
       "<style>/* CSS stylesheet for displaying xarray objects in jupyterlab.\n",
       " *\n",
       " */\n",
       "\n",
       ":root {\n",
       "  --xr-font-color0: var(--jp-content-font-color0, rgba(0, 0, 0, 1));\n",
       "  --xr-font-color2: var(--jp-content-font-color2, rgba(0, 0, 0, 0.54));\n",
       "  --xr-font-color3: var(--jp-content-font-color3, rgba(0, 0, 0, 0.38));\n",
       "  --xr-border-color: var(--jp-border-color2, #e0e0e0);\n",
       "  --xr-disabled-color: var(--jp-layout-color3, #bdbdbd);\n",
       "  --xr-background-color: var(--jp-layout-color0, white);\n",
       "  --xr-background-color-row-even: var(--jp-layout-color1, white);\n",
       "  --xr-background-color-row-odd: var(--jp-layout-color2, #eeeeee);\n",
       "}\n",
       "\n",
       "html[theme=dark],\n",
       "html[data-theme=dark],\n",
       "body[data-theme=dark],\n",
       "body.vscode-dark {\n",
       "  --xr-font-color0: rgba(255, 255, 255, 1);\n",
       "  --xr-font-color2: rgba(255, 255, 255, 0.54);\n",
       "  --xr-font-color3: rgba(255, 255, 255, 0.38);\n",
       "  --xr-border-color: #1F1F1F;\n",
       "  --xr-disabled-color: #515151;\n",
       "  --xr-background-color: #111111;\n",
       "  --xr-background-color-row-even: #111111;\n",
       "  --xr-background-color-row-odd: #313131;\n",
       "}\n",
       "\n",
       ".xr-wrap {\n",
       "  display: block !important;\n",
       "  min-width: 300px;\n",
       "  max-width: 700px;\n",
       "}\n",
       "\n",
       ".xr-text-repr-fallback {\n",
       "  /* fallback to plain text repr when CSS is not injected (untrusted notebook) */\n",
       "  display: none;\n",
       "}\n",
       "\n",
       ".xr-header {\n",
       "  padding-top: 6px;\n",
       "  padding-bottom: 6px;\n",
       "  margin-bottom: 4px;\n",
       "  border-bottom: solid 1px var(--xr-border-color);\n",
       "}\n",
       "\n",
       ".xr-header > div,\n",
       ".xr-header > ul {\n",
       "  display: inline;\n",
       "  margin-top: 0;\n",
       "  margin-bottom: 0;\n",
       "}\n",
       "\n",
       ".xr-obj-type,\n",
       ".xr-array-name {\n",
       "  margin-left: 2px;\n",
       "  margin-right: 10px;\n",
       "}\n",
       "\n",
       ".xr-obj-type {\n",
       "  color: var(--xr-font-color2);\n",
       "}\n",
       "\n",
       ".xr-sections {\n",
       "  padding-left: 0 !important;\n",
       "  display: grid;\n",
       "  grid-template-columns: 150px auto auto 1fr 20px 20px;\n",
       "}\n",
       "\n",
       ".xr-section-item {\n",
       "  display: contents;\n",
       "}\n",
       "\n",
       ".xr-section-item input {\n",
       "  display: none;\n",
       "}\n",
       "\n",
       ".xr-section-item input + label {\n",
       "  color: var(--xr-disabled-color);\n",
       "}\n",
       "\n",
       ".xr-section-item input:enabled + label {\n",
       "  cursor: pointer;\n",
       "  color: var(--xr-font-color2);\n",
       "}\n",
       "\n",
       ".xr-section-item input:enabled + label:hover {\n",
       "  color: var(--xr-font-color0);\n",
       "}\n",
       "\n",
       ".xr-section-summary {\n",
       "  grid-column: 1;\n",
       "  color: var(--xr-font-color2);\n",
       "  font-weight: 500;\n",
       "}\n",
       "\n",
       ".xr-section-summary > span {\n",
       "  display: inline-block;\n",
       "  padding-left: 0.5em;\n",
       "}\n",
       "\n",
       ".xr-section-summary-in:disabled + label {\n",
       "  color: var(--xr-font-color2);\n",
       "}\n",
       "\n",
       ".xr-section-summary-in + label:before {\n",
       "  display: inline-block;\n",
       "  content: '►';\n",
       "  font-size: 11px;\n",
       "  width: 15px;\n",
       "  text-align: center;\n",
       "}\n",
       "\n",
       ".xr-section-summary-in:disabled + label:before {\n",
       "  color: var(--xr-disabled-color);\n",
       "}\n",
       "\n",
       ".xr-section-summary-in:checked + label:before {\n",
       "  content: '▼';\n",
       "}\n",
       "\n",
       ".xr-section-summary-in:checked + label > span {\n",
       "  display: none;\n",
       "}\n",
       "\n",
       ".xr-section-summary,\n",
       ".xr-section-inline-details {\n",
       "  padding-top: 4px;\n",
       "  padding-bottom: 4px;\n",
       "}\n",
       "\n",
       ".xr-section-inline-details {\n",
       "  grid-column: 2 / -1;\n",
       "}\n",
       "\n",
       ".xr-section-details {\n",
       "  display: none;\n",
       "  grid-column: 1 / -1;\n",
       "  margin-bottom: 5px;\n",
       "}\n",
       "\n",
       ".xr-section-summary-in:checked ~ .xr-section-details {\n",
       "  display: contents;\n",
       "}\n",
       "\n",
       ".xr-array-wrap {\n",
       "  grid-column: 1 / -1;\n",
       "  display: grid;\n",
       "  grid-template-columns: 20px auto;\n",
       "}\n",
       "\n",
       ".xr-array-wrap > label {\n",
       "  grid-column: 1;\n",
       "  vertical-align: top;\n",
       "}\n",
       "\n",
       ".xr-preview {\n",
       "  color: var(--xr-font-color3);\n",
       "}\n",
       "\n",
       ".xr-array-preview,\n",
       ".xr-array-data {\n",
       "  padding: 0 5px !important;\n",
       "  grid-column: 2;\n",
       "}\n",
       "\n",
       ".xr-array-data,\n",
       ".xr-array-in:checked ~ .xr-array-preview {\n",
       "  display: none;\n",
       "}\n",
       "\n",
       ".xr-array-in:checked ~ .xr-array-data,\n",
       ".xr-array-preview {\n",
       "  display: inline-block;\n",
       "}\n",
       "\n",
       ".xr-dim-list {\n",
       "  display: inline-block !important;\n",
       "  list-style: none;\n",
       "  padding: 0 !important;\n",
       "  margin: 0;\n",
       "}\n",
       "\n",
       ".xr-dim-list li {\n",
       "  display: inline-block;\n",
       "  padding: 0;\n",
       "  margin: 0;\n",
       "}\n",
       "\n",
       ".xr-dim-list:before {\n",
       "  content: '(';\n",
       "}\n",
       "\n",
       ".xr-dim-list:after {\n",
       "  content: ')';\n",
       "}\n",
       "\n",
       ".xr-dim-list li:not(:last-child):after {\n",
       "  content: ',';\n",
       "  padding-right: 5px;\n",
       "}\n",
       "\n",
       ".xr-has-index {\n",
       "  font-weight: bold;\n",
       "}\n",
       "\n",
       ".xr-var-list,\n",
       ".xr-var-item {\n",
       "  display: contents;\n",
       "}\n",
       "\n",
       ".xr-var-item > div,\n",
       ".xr-var-item label,\n",
       ".xr-var-item > .xr-var-name span {\n",
       "  background-color: var(--xr-background-color-row-even);\n",
       "  margin-bottom: 0;\n",
       "}\n",
       "\n",
       ".xr-var-item > .xr-var-name:hover span {\n",
       "  padding-right: 5px;\n",
       "}\n",
       "\n",
       ".xr-var-list > li:nth-child(odd) > div,\n",
       ".xr-var-list > li:nth-child(odd) > label,\n",
       ".xr-var-list > li:nth-child(odd) > .xr-var-name span {\n",
       "  background-color: var(--xr-background-color-row-odd);\n",
       "}\n",
       "\n",
       ".xr-var-name {\n",
       "  grid-column: 1;\n",
       "}\n",
       "\n",
       ".xr-var-dims {\n",
       "  grid-column: 2;\n",
       "}\n",
       "\n",
       ".xr-var-dtype {\n",
       "  grid-column: 3;\n",
       "  text-align: right;\n",
       "  color: var(--xr-font-color2);\n",
       "}\n",
       "\n",
       ".xr-var-preview {\n",
       "  grid-column: 4;\n",
       "}\n",
       "\n",
       ".xr-index-preview {\n",
       "  grid-column: 2 / 5;\n",
       "  color: var(--xr-font-color2);\n",
       "}\n",
       "\n",
       ".xr-var-name,\n",
       ".xr-var-dims,\n",
       ".xr-var-dtype,\n",
       ".xr-preview,\n",
       ".xr-attrs dt {\n",
       "  white-space: nowrap;\n",
       "  overflow: hidden;\n",
       "  text-overflow: ellipsis;\n",
       "  padding-right: 10px;\n",
       "}\n",
       "\n",
       ".xr-var-name:hover,\n",
       ".xr-var-dims:hover,\n",
       ".xr-var-dtype:hover,\n",
       ".xr-attrs dt:hover {\n",
       "  overflow: visible;\n",
       "  width: auto;\n",
       "  z-index: 1;\n",
       "}\n",
       "\n",
       ".xr-var-attrs,\n",
       ".xr-var-data,\n",
       ".xr-index-data {\n",
       "  display: none;\n",
       "  background-color: var(--xr-background-color) !important;\n",
       "  padding-bottom: 5px !important;\n",
       "}\n",
       "\n",
       ".xr-var-attrs-in:checked ~ .xr-var-attrs,\n",
       ".xr-var-data-in:checked ~ .xr-var-data,\n",
       ".xr-index-data-in:checked ~ .xr-index-data {\n",
       "  display: block;\n",
       "}\n",
       "\n",
       ".xr-var-data > table {\n",
       "  float: right;\n",
       "}\n",
       "\n",
       ".xr-var-name span,\n",
       ".xr-var-data,\n",
       ".xr-index-name div,\n",
       ".xr-index-data,\n",
       ".xr-attrs {\n",
       "  padding-left: 25px !important;\n",
       "}\n",
       "\n",
       ".xr-attrs,\n",
       ".xr-var-attrs,\n",
       ".xr-var-data,\n",
       ".xr-index-data {\n",
       "  grid-column: 1 / -1;\n",
       "}\n",
       "\n",
       "dl.xr-attrs {\n",
       "  padding: 0;\n",
       "  margin: 0;\n",
       "  display: grid;\n",
       "  grid-template-columns: 125px auto;\n",
       "}\n",
       "\n",
       ".xr-attrs dt,\n",
       ".xr-attrs dd {\n",
       "  padding: 0;\n",
       "  margin: 0;\n",
       "  float: left;\n",
       "  padding-right: 10px;\n",
       "  width: auto;\n",
       "}\n",
       "\n",
       ".xr-attrs dt {\n",
       "  font-weight: normal;\n",
       "  grid-column: 1;\n",
       "}\n",
       "\n",
       ".xr-attrs dt:hover span {\n",
       "  display: inline-block;\n",
       "  background: var(--xr-background-color);\n",
       "  padding-right: 10px;\n",
       "}\n",
       "\n",
       ".xr-attrs dd {\n",
       "  grid-column: 2;\n",
       "  white-space: pre-wrap;\n",
       "  word-break: break-all;\n",
       "}\n",
       "\n",
       ".xr-icon-database,\n",
       ".xr-icon-file-text2,\n",
       ".xr-no-icon {\n",
       "  display: inline-block;\n",
       "  vertical-align: middle;\n",
       "  width: 1em;\n",
       "  height: 1.5em !important;\n",
       "  stroke-width: 0;\n",
       "  stroke: currentColor;\n",
       "  fill: currentColor;\n",
       "}\n",
       "</style><pre class='xr-text-repr-fallback'>&lt;xarray.Dataset&gt; Size: 2GB\n",
       "Dimensions:    (time: 9125, bnds: 2, lat: 192, lon: 288)\n",
       "Coordinates:\n",
       "  * time       (time) object 73kB 1975-01-01 12:00:00 ... 1999-12-31 12:00:00\n",
       "  * lat        (lat) float64 2kB -90.0 -89.06 -88.12 -87.17 ... 88.12 89.06 90.0\n",
       "  * lon        (lon) float64 2kB 0.0 1.25 2.5 3.75 ... 355.0 356.2 357.5 358.8\n",
       "Dimensions without coordinates: bnds\n",
       "Data variables:\n",
       "    time_bnds  (time, bnds) object 146kB ...\n",
       "    lat_bnds   (lat, bnds) float64 3kB ...\n",
       "    lon_bnds   (lon, bnds) float64 5kB ...\n",
       "    pr         (time, lat, lon) float32 2GB ...\n",
       "Attributes: (12/48)\n",
       "    Conventions:            CF-1.7 CMIP-6.2\n",
       "    activity_id:            CMIP\n",
       "    branch_method:          standard\n",
       "    branch_time_in_child:   0.0\n",
       "    branch_time_in_parent:  0.0\n",
       "    comment:                none\n",
       "    ...                     ...\n",
       "    title:                  CMCC-CM2-SR5 output prepared for CMIP6\n",
       "    variable_id:            pr\n",
       "    variant_label:          r1i1p1f1\n",
       "    license:                CMIP6 model data produced by CMCC is licensed und...\n",
       "    cmor_version:           3.5.0\n",
       "    tracking_id:            hdl:21.14100/f7682192-948a-4692-8b13-11e83738cc59</pre><div class='xr-wrap' style='display:none'><div class='xr-header'><div class='xr-obj-type'>xarray.Dataset</div></div><ul class='xr-sections'><li class='xr-section-item'><input id='section-7870a7a9-eddd-45d3-a4b1-3fb7cf412d4b' class='xr-section-summary-in' type='checkbox' disabled ><label for='section-7870a7a9-eddd-45d3-a4b1-3fb7cf412d4b' class='xr-section-summary'  title='Expand/collapse section'>Dimensions:</label><div class='xr-section-inline-details'><ul class='xr-dim-list'><li><span class='xr-has-index'>time</span>: 9125</li><li><span>bnds</span>: 2</li><li><span class='xr-has-index'>lat</span>: 192</li><li><span class='xr-has-index'>lon</span>: 288</li></ul></div><div class='xr-section-details'></div></li><li class='xr-section-item'><input id='section-bfbdc271-3c58-4e9e-9602-5385388aa7af' class='xr-section-summary-in' type='checkbox'  checked><label for='section-bfbdc271-3c58-4e9e-9602-5385388aa7af' class='xr-section-summary' >Coordinates: <span>(3)</span></label><div class='xr-section-inline-details'></div><div class='xr-section-details'><ul class='xr-var-list'><li class='xr-var-item'><div class='xr-var-name'><span class='xr-has-index'>time</span></div><div class='xr-var-dims'>(time)</div><div class='xr-var-dtype'>object</div><div class='xr-var-preview xr-preview'>1975-01-01 12:00:00 ... 1999-12-...</div><input id='attrs-c77be223-8dfa-4722-af64-06b09f83e9a7' class='xr-var-attrs-in' type='checkbox' ><label for='attrs-c77be223-8dfa-4722-af64-06b09f83e9a7' title='Show/Hide attributes'><svg class='icon xr-icon-file-text2'><use xlink:href='#icon-file-text2'></use></svg></label><input id='data-8b9ee373-013f-4d43-ade0-d6affb92c776' class='xr-var-data-in' type='checkbox'><label for='data-8b9ee373-013f-4d43-ade0-d6affb92c776' title='Show/Hide data repr'><svg class='icon xr-icon-database'><use xlink:href='#icon-database'></use></svg></label><div class='xr-var-attrs'><dl class='xr-attrs'><dt><span>bounds :</span></dt><dd>time_bnds</dd><dt><span>axis :</span></dt><dd>T</dd><dt><span>long_name :</span></dt><dd>time</dd><dt><span>standard_name :</span></dt><dd>time</dd></dl></div><div class='xr-var-data'><pre>array([cftime.DatetimeNoLeap(1975, 1, 1, 12, 0, 0, 0, has_year_zero=True),\n",
       "       cftime.DatetimeNoLeap(1975, 1, 2, 12, 0, 0, 0, has_year_zero=True),\n",
       "       cftime.DatetimeNoLeap(1975, 1, 3, 12, 0, 0, 0, has_year_zero=True), ...,\n",
       "       cftime.DatetimeNoLeap(1999, 12, 29, 12, 0, 0, 0, has_year_zero=True),\n",
       "       cftime.DatetimeNoLeap(1999, 12, 30, 12, 0, 0, 0, has_year_zero=True),\n",
       "       cftime.DatetimeNoLeap(1999, 12, 31, 12, 0, 0, 0, has_year_zero=True)],\n",
       "      dtype=object)</pre></div></li><li class='xr-var-item'><div class='xr-var-name'><span class='xr-has-index'>lat</span></div><div class='xr-var-dims'>(lat)</div><div class='xr-var-dtype'>float64</div><div class='xr-var-preview xr-preview'>-90.0 -89.06 -88.12 ... 89.06 90.0</div><input id='attrs-2aa7c24e-377e-4b24-bea8-26ee9594354f' class='xr-var-attrs-in' type='checkbox' ><label for='attrs-2aa7c24e-377e-4b24-bea8-26ee9594354f' title='Show/Hide attributes'><svg class='icon xr-icon-file-text2'><use xlink:href='#icon-file-text2'></use></svg></label><input id='data-dcacbbb0-1dd0-421a-986d-4adc1a244880' class='xr-var-data-in' type='checkbox'><label for='data-dcacbbb0-1dd0-421a-986d-4adc1a244880' title='Show/Hide data repr'><svg class='icon xr-icon-database'><use xlink:href='#icon-database'></use></svg></label><div class='xr-var-attrs'><dl class='xr-attrs'><dt><span>bounds :</span></dt><dd>lat_bnds</dd><dt><span>units :</span></dt><dd>degrees_north</dd><dt><span>axis :</span></dt><dd>Y</dd><dt><span>long_name :</span></dt><dd>Latitude</dd><dt><span>standard_name :</span></dt><dd>latitude</dd></dl></div><div class='xr-var-data'><pre>array([-90.      , -89.057592, -88.115183, -87.172775, -86.230366, -85.287958,\n",
       "       -84.34555 , -83.403141, -82.460733, -81.518325, -80.575916, -79.633508,\n",
       "       -78.691099, -77.748691, -76.806283, -75.863874, -74.921466, -73.979058,\n",
       "       -73.036649, -72.094241, -71.151832, -70.209424, -69.267016, -68.324607,\n",
       "       -67.382199, -66.439791, -65.497382, -64.554974, -63.612565, -62.670157,\n",
       "       -61.727749, -60.78534 , -59.842932, -58.900524, -57.958115, -57.015707,\n",
       "       -56.073298, -55.13089 , -54.188482, -53.246073, -52.303665, -51.361257,\n",
       "       -50.418848, -49.47644 , -48.534031, -47.591623, -46.649215, -45.706806,\n",
       "       -44.764398, -43.82199 , -42.879581, -41.937173, -40.994764, -40.052356,\n",
       "       -39.109948, -38.167539, -37.225131, -36.282723, -35.340314, -34.397906,\n",
       "       -33.455497, -32.513089, -31.570681, -30.628272, -29.685864, -28.743455,\n",
       "       -27.801047, -26.858639, -25.91623 , -24.973822, -24.031414, -23.089005,\n",
       "       -22.146597, -21.204188, -20.26178 , -19.319372, -18.376963, -17.434555,\n",
       "       -16.492147, -15.549738, -14.60733 , -13.664921, -12.722513, -11.780105,\n",
       "       -10.837696,  -9.895288,  -8.95288 ,  -8.010471,  -7.068063,  -6.125654,\n",
       "        -5.183246,  -4.240838,  -3.298429,  -2.356021,  -1.413613,  -0.471204,\n",
       "         0.471204,   1.413613,   2.356021,   3.298429,   4.240838,   5.183246,\n",
       "         6.125654,   7.068063,   8.010471,   8.95288 ,   9.895288,  10.837696,\n",
       "        11.780105,  12.722513,  13.664921,  14.60733 ,  15.549738,  16.492147,\n",
       "        17.434555,  18.376963,  19.319372,  20.26178 ,  21.204188,  22.146597,\n",
       "        23.089005,  24.031414,  24.973822,  25.91623 ,  26.858639,  27.801047,\n",
       "        28.743455,  29.685864,  30.628272,  31.570681,  32.513089,  33.455497,\n",
       "        34.397906,  35.340314,  36.282723,  37.225131,  38.167539,  39.109948,\n",
       "        40.052356,  40.994764,  41.937173,  42.879581,  43.82199 ,  44.764398,\n",
       "        45.706806,  46.649215,  47.591623,  48.534031,  49.47644 ,  50.418848,\n",
       "        51.361257,  52.303665,  53.246073,  54.188482,  55.13089 ,  56.073298,\n",
       "        57.015707,  57.958115,  58.900524,  59.842932,  60.78534 ,  61.727749,\n",
       "        62.670157,  63.612565,  64.554974,  65.497382,  66.439791,  67.382199,\n",
       "        68.324607,  69.267016,  70.209424,  71.151832,  72.094241,  73.036649,\n",
       "        73.979058,  74.921466,  75.863874,  76.806283,  77.748691,  78.691099,\n",
       "        79.633508,  80.575916,  81.518325,  82.460733,  83.403141,  84.34555 ,\n",
       "        85.287958,  86.230366,  87.172775,  88.115183,  89.057592,  90.      ])</pre></div></li><li class='xr-var-item'><div class='xr-var-name'><span class='xr-has-index'>lon</span></div><div class='xr-var-dims'>(lon)</div><div class='xr-var-dtype'>float64</div><div class='xr-var-preview xr-preview'>0.0 1.25 2.5 ... 356.2 357.5 358.8</div><input id='attrs-ac300e2a-9ffc-4b42-9f82-b4d212853393' class='xr-var-attrs-in' type='checkbox' ><label for='attrs-ac300e2a-9ffc-4b42-9f82-b4d212853393' title='Show/Hide attributes'><svg class='icon xr-icon-file-text2'><use xlink:href='#icon-file-text2'></use></svg></label><input id='data-d5ccafe0-c84f-44b3-8a94-32edebb60635' class='xr-var-data-in' type='checkbox'><label for='data-d5ccafe0-c84f-44b3-8a94-32edebb60635' title='Show/Hide data repr'><svg class='icon xr-icon-database'><use xlink:href='#icon-database'></use></svg></label><div class='xr-var-attrs'><dl class='xr-attrs'><dt><span>bounds :</span></dt><dd>lon_bnds</dd><dt><span>units :</span></dt><dd>degrees_east</dd><dt><span>axis :</span></dt><dd>X</dd><dt><span>long_name :</span></dt><dd>Longitude</dd><dt><span>standard_name :</span></dt><dd>longitude</dd></dl></div><div class='xr-var-data'><pre>array([  0.  ,   1.25,   2.5 , ..., 356.25, 357.5 , 358.75])</pre></div></li></ul></div></li><li class='xr-section-item'><input id='section-1618dc60-6db7-431b-a7e1-34f1b675569d' class='xr-section-summary-in' type='checkbox'  checked><label for='section-1618dc60-6db7-431b-a7e1-34f1b675569d' class='xr-section-summary' >Data variables: <span>(4)</span></label><div class='xr-section-inline-details'></div><div class='xr-section-details'><ul class='xr-var-list'><li class='xr-var-item'><div class='xr-var-name'><span>time_bnds</span></div><div class='xr-var-dims'>(time, bnds)</div><div class='xr-var-dtype'>object</div><div class='xr-var-preview xr-preview'>...</div><input id='attrs-4b7cc86c-c979-49ae-a7f3-bb76976ee659' class='xr-var-attrs-in' type='checkbox' disabled><label for='attrs-4b7cc86c-c979-49ae-a7f3-bb76976ee659' title='Show/Hide attributes'><svg class='icon xr-icon-file-text2'><use xlink:href='#icon-file-text2'></use></svg></label><input id='data-9db86544-e393-4850-8f22-62da72f99525' class='xr-var-data-in' type='checkbox'><label for='data-9db86544-e393-4850-8f22-62da72f99525' title='Show/Hide data repr'><svg class='icon xr-icon-database'><use xlink:href='#icon-database'></use></svg></label><div class='xr-var-attrs'><dl class='xr-attrs'></dl></div><div class='xr-var-data'><pre>[18250 values with dtype=object]</pre></div></li><li class='xr-var-item'><div class='xr-var-name'><span>lat_bnds</span></div><div class='xr-var-dims'>(lat, bnds)</div><div class='xr-var-dtype'>float64</div><div class='xr-var-preview xr-preview'>...</div><input id='attrs-f54e5d09-46de-4843-8fbc-38f845450cd1' class='xr-var-attrs-in' type='checkbox' disabled><label for='attrs-f54e5d09-46de-4843-8fbc-38f845450cd1' title='Show/Hide attributes'><svg class='icon xr-icon-file-text2'><use xlink:href='#icon-file-text2'></use></svg></label><input id='data-391327df-ce34-408d-ab4a-8666eaa1a4ee' class='xr-var-data-in' type='checkbox'><label for='data-391327df-ce34-408d-ab4a-8666eaa1a4ee' title='Show/Hide data repr'><svg class='icon xr-icon-database'><use xlink:href='#icon-database'></use></svg></label><div class='xr-var-attrs'><dl class='xr-attrs'></dl></div><div class='xr-var-data'><pre>[384 values with dtype=float64]</pre></div></li><li class='xr-var-item'><div class='xr-var-name'><span>lon_bnds</span></div><div class='xr-var-dims'>(lon, bnds)</div><div class='xr-var-dtype'>float64</div><div class='xr-var-preview xr-preview'>...</div><input id='attrs-8389fa04-2464-486a-95f7-6603983d4176' class='xr-var-attrs-in' type='checkbox' disabled><label for='attrs-8389fa04-2464-486a-95f7-6603983d4176' title='Show/Hide attributes'><svg class='icon xr-icon-file-text2'><use xlink:href='#icon-file-text2'></use></svg></label><input id='data-a22c9641-1cf7-4bfd-adc9-c7bfb4835ba8' class='xr-var-data-in' type='checkbox'><label for='data-a22c9641-1cf7-4bfd-adc9-c7bfb4835ba8' title='Show/Hide data repr'><svg class='icon xr-icon-database'><use xlink:href='#icon-database'></use></svg></label><div class='xr-var-attrs'><dl class='xr-attrs'></dl></div><div class='xr-var-data'><pre>[576 values with dtype=float64]</pre></div></li><li class='xr-var-item'><div class='xr-var-name'><span>pr</span></div><div class='xr-var-dims'>(time, lat, lon)</div><div class='xr-var-dtype'>float32</div><div class='xr-var-preview xr-preview'>...</div><input id='attrs-8a862cf0-53e9-4dfb-a88e-dc391e44745b' class='xr-var-attrs-in' type='checkbox' ><label for='attrs-8a862cf0-53e9-4dfb-a88e-dc391e44745b' title='Show/Hide attributes'><svg class='icon xr-icon-file-text2'><use xlink:href='#icon-file-text2'></use></svg></label><input id='data-0dfd79b1-c213-4499-9c85-5fb7b7ad7f49' class='xr-var-data-in' type='checkbox'><label for='data-0dfd79b1-c213-4499-9c85-5fb7b7ad7f49' title='Show/Hide data repr'><svg class='icon xr-icon-database'><use xlink:href='#icon-database'></use></svg></label><div class='xr-var-attrs'><dl class='xr-attrs'><dt><span>standard_name :</span></dt><dd>precipitation_flux</dd><dt><span>long_name :</span></dt><dd>Precipitation</dd><dt><span>comment :</span></dt><dd>includes both liquid and solid phases</dd><dt><span>units :</span></dt><dd>kg m-2 s-1</dd><dt><span>original_name :</span></dt><dd>PRECT</dd><dt><span>cell_methods :</span></dt><dd>area: time: mean</dd><dt><span>cell_measures :</span></dt><dd>area: areacella</dd></dl></div><div class='xr-var-data'><pre>[504576000 values with dtype=float32]</pre></div></li></ul></div></li><li class='xr-section-item'><input id='section-4a8a0b44-2034-4c31-8875-16bb6ab8a1c0' class='xr-section-summary-in' type='checkbox'  ><label for='section-4a8a0b44-2034-4c31-8875-16bb6ab8a1c0' class='xr-section-summary' >Indexes: <span>(3)</span></label><div class='xr-section-inline-details'></div><div class='xr-section-details'><ul class='xr-var-list'><li class='xr-var-item'><div class='xr-index-name'><div>time</div></div><div class='xr-index-preview'>PandasIndex</div><div></div><input id='index-d37db896-7be5-481e-8dc5-eac5531c7f72' class='xr-index-data-in' type='checkbox'/><label for='index-d37db896-7be5-481e-8dc5-eac5531c7f72' title='Show/Hide index repr'><svg class='icon xr-icon-database'><use xlink:href='#icon-database'></use></svg></label><div class='xr-index-data'><pre>PandasIndex(CFTimeIndex([1975-01-01 12:00:00, 1975-01-02 12:00:00, 1975-01-03 12:00:00,\n",
       "             1975-01-04 12:00:00, 1975-01-05 12:00:00, 1975-01-06 12:00:00,\n",
       "             1975-01-07 12:00:00, 1975-01-08 12:00:00, 1975-01-09 12:00:00,\n",
       "             1975-01-10 12:00:00,\n",
       "             ...\n",
       "             1999-12-22 12:00:00, 1999-12-23 12:00:00, 1999-12-24 12:00:00,\n",
       "             1999-12-25 12:00:00, 1999-12-26 12:00:00, 1999-12-27 12:00:00,\n",
       "             1999-12-28 12:00:00, 1999-12-29 12:00:00, 1999-12-30 12:00:00,\n",
       "             1999-12-31 12:00:00],\n",
       "            dtype=&#x27;object&#x27;, length=9125, calendar=&#x27;noleap&#x27;, freq=&#x27;D&#x27;))</pre></div></li><li class='xr-var-item'><div class='xr-index-name'><div>lat</div></div><div class='xr-index-preview'>PandasIndex</div><div></div><input id='index-5c5b3bfd-c7a7-4b64-8266-2ecd858c13a5' class='xr-index-data-in' type='checkbox'/><label for='index-5c5b3bfd-c7a7-4b64-8266-2ecd858c13a5' title='Show/Hide index repr'><svg class='icon xr-icon-database'><use xlink:href='#icon-database'></use></svg></label><div class='xr-index-data'><pre>PandasIndex(Index([             -90.0, -89.05759162303664,  -88.1151832460733,\n",
       "       -87.17277486910994,  -86.2303664921466, -85.28795811518324,\n",
       "        -84.3455497382199, -83.40314136125654, -82.46073298429319,\n",
       "       -81.51832460732984,\n",
       "       ...\n",
       "        81.51832460732984,   82.4607329842932,  83.40314136125653,\n",
       "        84.34554973821989,  85.28795811518324,   86.2303664921466,\n",
       "        87.17277486910996,  88.11518324607329,  89.05759162303664,\n",
       "                     90.0],\n",
       "      dtype=&#x27;float64&#x27;, name=&#x27;lat&#x27;, length=192))</pre></div></li><li class='xr-var-item'><div class='xr-index-name'><div>lon</div></div><div class='xr-index-preview'>PandasIndex</div><div></div><input id='index-2a553e70-eec2-4930-a4ce-4d9d3cd1e2e7' class='xr-index-data-in' type='checkbox'/><label for='index-2a553e70-eec2-4930-a4ce-4d9d3cd1e2e7' title='Show/Hide index repr'><svg class='icon xr-icon-database'><use xlink:href='#icon-database'></use></svg></label><div class='xr-index-data'><pre>PandasIndex(Index([   0.0,   1.25,    2.5,   3.75,    5.0,   6.25,    7.5,   8.75,   10.0,\n",
       "        11.25,\n",
       "       ...\n",
       "        347.5, 348.75,  350.0, 351.25,  352.5, 353.75,  355.0, 356.25,  357.5,\n",
       "       358.75],\n",
       "      dtype=&#x27;float64&#x27;, name=&#x27;lon&#x27;, length=288))</pre></div></li></ul></div></li><li class='xr-section-item'><input id='section-d16de87b-821a-44c3-a659-92ff3521f793' class='xr-section-summary-in' type='checkbox'  ><label for='section-d16de87b-821a-44c3-a659-92ff3521f793' class='xr-section-summary' >Attributes: <span>(48)</span></label><div class='xr-section-inline-details'></div><div class='xr-section-details'><dl class='xr-attrs'><dt><span>Conventions :</span></dt><dd>CF-1.7 CMIP-6.2</dd><dt><span>activity_id :</span></dt><dd>CMIP</dd><dt><span>branch_method :</span></dt><dd>standard</dd><dt><span>branch_time_in_child :</span></dt><dd>0.0</dd><dt><span>branch_time_in_parent :</span></dt><dd>0.0</dd><dt><span>comment :</span></dt><dd>none</dd><dt><span>contact :</span></dt><dd>T. Lovato</dd><dt><span>creation_date :</span></dt><dd>2020-05-27T07:43:13Z</dd><dt><span>data_specs_version :</span></dt><dd>01.00.31</dd><dt><span>experiment :</span></dt><dd>all-forcing simulation of the recent past</dd><dt><span>experiment_id :</span></dt><dd>historical</dd><dt><span>external_variables :</span></dt><dd>areacella</dd><dt><span>forcing_index :</span></dt><dd>1</dd><dt><span>frequency :</span></dt><dd>day</dd><dt><span>further_info_url :</span></dt><dd>https://furtherinfo.es-doc.org/CMIP6.CMCC.CMCC-CM2-SR5.historical.none.r1i1p1f1</dd><dt><span>grid :</span></dt><dd>native atmosphere regular grid</dd><dt><span>grid_label :</span></dt><dd>gn</dd><dt><span>history :</span></dt><dd>2020-05-27T07:43:13Z ;rewrote data to be consistent with CMIP for variable pr found in table day.;\n",
       "none</dd><dt><span>initialization_index :</span></dt><dd>1</dd><dt><span>institution :</span></dt><dd>Fondazione Centro Euro-Mediterraneo sui Cambiamenti Climatici, Lecce 73100, Italy</dd><dt><span>institution_id :</span></dt><dd>CMCC</dd><dt><span>mip_era :</span></dt><dd>CMIP6</dd><dt><span>nominal_resolution :</span></dt><dd>100 km</dd><dt><span>parent_activity_id :</span></dt><dd>CMIP</dd><dt><span>parent_experiment_id :</span></dt><dd>piControl</dd><dt><span>parent_mip_era :</span></dt><dd>CMIP6</dd><dt><span>parent_source_id :</span></dt><dd>CMCC-CM2-SR5</dd><dt><span>parent_time_units :</span></dt><dd>days since 1850-01-01</dd><dt><span>parent_variant_label :</span></dt><dd>r1i1p1f1</dd><dt><span>physics_index :</span></dt><dd>1</dd><dt><span>product :</span></dt><dd>model-output</dd><dt><span>realization_index :</span></dt><dd>1</dd><dt><span>realm :</span></dt><dd>atmos</dd><dt><span>references :</span></dt><dd>none</dd><dt><span>run_variant :</span></dt><dd>1st realization</dd><dt><span>source :</span></dt><dd>CMCC-CM2-SR5 (2016): \n",
       "aerosol: MAM3\n",
       "atmos: CAM5.3 (1deg; 288 x 192 longitude/latitude; 30 levels; top at ~2 hPa)\n",
       "atmosChem: none\n",
       "land: CLM4.5 (BGC mode)\n",
       "landIce: none\n",
       "ocean: NEMO3.6 (ORCA1 tripolar primarly 1 deg lat/lon with meridional refinement down to 1/3 degree in the tropics; 362 x 292 longitude/latitude; 50 vertical levels; top grid cell 0-1 m)\n",
       "ocnBgchem: none\n",
       "seaIce: CICE4.0</dd><dt><span>source_id :</span></dt><dd>CMCC-CM2-SR5</dd><dt><span>source_type :</span></dt><dd>AOGCM</dd><dt><span>sub_experiment :</span></dt><dd>none</dd><dt><span>sub_experiment_id :</span></dt><dd>none</dd><dt><span>table_id :</span></dt><dd>day</dd><dt><span>table_info :</span></dt><dd>Creation Date:(05 February 2020) MD5:6a248fd76c55aa6d6f7b3cc6866b5faf</dd><dt><span>title :</span></dt><dd>CMCC-CM2-SR5 output prepared for CMIP6</dd><dt><span>variable_id :</span></dt><dd>pr</dd><dt><span>variant_label :</span></dt><dd>r1i1p1f1</dd><dt><span>license :</span></dt><dd>CMIP6 model data produced by CMCC is licensed under a Creative Commons Attribution ShareAlike 4.0 International License (https://creativecommons.org/licenses). Consult https://pcmdi.llnl.gov/CMIP6/TermsOfUse for terms of use governing CMIP6 output, including citation requirements and proper acknowledgment. Further information about this data, including some limitations, can be found via the further_info_url (recorded as a global attribute in this file) and at https:///pcmdi.llnl.gov/. The data producers and data providers make no warranty, either express or implied, including, but not limited to, warranties of merchantability and fitness for a particular purpose. All liabilities arising from the supply of the information (including any liability arising in negligence) are excluded to the fullest extent permitted by law.</dd><dt><span>cmor_version :</span></dt><dd>3.5.0</dd><dt><span>tracking_id :</span></dt><dd>hdl:21.14100/f7682192-948a-4692-8b13-11e83738cc59</dd></dl></div></li></ul></div></div>"
      ],
      "text/plain": [
       "<xarray.Dataset> Size: 2GB\n",
       "Dimensions:    (time: 9125, bnds: 2, lat: 192, lon: 288)\n",
       "Coordinates:\n",
       "  * time       (time) object 73kB 1975-01-01 12:00:00 ... 1999-12-31 12:00:00\n",
       "  * lat        (lat) float64 2kB -90.0 -89.06 -88.12 -87.17 ... 88.12 89.06 90.0\n",
       "  * lon        (lon) float64 2kB 0.0 1.25 2.5 3.75 ... 355.0 356.2 357.5 358.8\n",
       "Dimensions without coordinates: bnds\n",
       "Data variables:\n",
       "    time_bnds  (time, bnds) object 146kB ...\n",
       "    lat_bnds   (lat, bnds) float64 3kB ...\n",
       "    lon_bnds   (lon, bnds) float64 5kB ...\n",
       "    pr         (time, lat, lon) float32 2GB ...\n",
       "Attributes: (12/48)\n",
       "    Conventions:            CF-1.7 CMIP-6.2\n",
       "    activity_id:            CMIP\n",
       "    branch_method:          standard\n",
       "    branch_time_in_child:   0.0\n",
       "    branch_time_in_parent:  0.0\n",
       "    comment:                none\n",
       "    ...                     ...\n",
       "    title:                  CMCC-CM2-SR5 output prepared for CMIP6\n",
       "    variable_id:            pr\n",
       "    variant_label:          r1i1p1f1\n",
       "    license:                CMIP6 model data produced by CMCC is licensed und...\n",
       "    cmor_version:           3.5.0\n",
       "    tracking_id:            hdl:21.14100/f7682192-948a-4692-8b13-11e83738cc59"
      ]
     },
     "execution_count": 74,
     "metadata": {},
     "output_type": "execute_result"
    }
   ],
   "source": [
    "data"
   ]
  },
  {
   "cell_type": "code",
   "execution_count": 192,
   "id": "7077c905-957b-4e81-8c5a-755ddf571bfe",
   "metadata": {
    "execution": {
     "iopub.execute_input": "2025-04-23T01:10:34.302839Z",
     "iopub.status.busy": "2025-04-23T01:10:34.302651Z",
     "iopub.status.idle": "2025-04-23T01:11:02.582598Z",
     "shell.execute_reply": "2025-04-23T01:11:02.582284Z",
     "shell.execute_reply.started": "2025-04-23T01:10:34.302829Z"
    }
   },
   "outputs": [],
   "source": [
    "clim    = data['pr'].groupby('time.dayofyear').mean('time')\n",
    "anomaly_tmp = data['pr'].groupby('time.dayofyear') - clim \n",
    "\n",
    "lon = data['lon']\n",
    "\n",
    "\n",
    "#clim    = data['precipitation'].groupby('time.dayofyear').mean('time')\n",
    "#anomaly_tmp = data['precipitation'].groupby('time.dayofyear') - clim "
   ]
  },
  {
   "cell_type": "code",
   "execution_count": 195,
   "id": "73e173d8-616e-4cb1-9fbd-7010240f6cf8",
   "metadata": {
    "execution": {
     "iopub.execute_input": "2025-04-23T01:12:08.579394Z",
     "iopub.status.busy": "2025-04-23T01:12:08.579208Z",
     "iopub.status.idle": "2025-04-23T01:12:08.592164Z",
     "shell.execute_reply": "2025-04-23T01:12:08.591982Z",
     "shell.execute_reply.started": "2025-04-23T01:12:08.579384Z"
    }
   },
   "outputs": [],
   "source": [
    "time = data['time'].to_numpy()"
   ]
  },
  {
   "cell_type": "code",
   "execution_count": 126,
   "id": "eae10244-342d-407c-bc64-0cfce78ff10d",
   "metadata": {
    "execution": {
     "iopub.execute_input": "2025-04-23T00:21:46.969275Z",
     "iopub.status.busy": "2025-04-23T00:21:46.969109Z",
     "iopub.status.idle": "2025-04-23T00:21:46.986443Z",
     "shell.execute_reply": "2025-04-23T00:21:46.986215Z",
     "shell.execute_reply.started": "2025-04-23T00:21:46.969263Z"
    }
   },
   "outputs": [
    {
     "name": "stdout",
     "output_type": "stream",
     "text": [
      "(9125, 192, 288)\n"
     ]
    },
    {
     "data": {
      "text/plain": [
       "(9125, 32, 288)"
      ]
     },
     "execution_count": 126,
     "metadata": {},
     "output_type": "execute_result"
    }
   ],
   "source": [
    "print(anomaly_tmp.shape)\n",
    "anomaly = anomaly_tmp.sel(lat=slice(-15.0, 15.0))\n",
    "anomaly.shape"
   ]
  },
  {
   "cell_type": "code",
   "execution_count": 127,
   "id": "4b2c0568-7aa3-4f52-acf8-836bb2367da5",
   "metadata": {
    "execution": {
     "iopub.execute_input": "2025-04-23T00:21:48.417453Z",
     "iopub.status.busy": "2025-04-23T00:21:48.417265Z",
     "iopub.status.idle": "2025-04-23T00:21:48.625697Z",
     "shell.execute_reply": "2025-04-23T00:21:48.625503Z",
     "shell.execute_reply.started": "2025-04-23T00:21:48.417443Z"
    }
   },
   "outputs": [
    {
     "data": {
      "text/plain": [
       "<matplotlib.colorbar.Colorbar at 0x7f27287430b0>"
      ]
     },
     "execution_count": 127,
     "metadata": {},
     "output_type": "execute_result"
    },
    {
     "data": {
      "image/png": "[encoded data removed]",
      "text/plain": [
       "<Figure size 640x480 with 2 Axes>"
      ]
     },
     "metadata": {},
     "output_type": "display_data"
    }
   ],
   "source": [
    "temp = anomaly.mean('lat') \n",
    "plt.contourf(temp[:100,:])\n",
    "plt.colorbar()"
   ]
  },
  {
   "cell_type": "code",
   "execution_count": 128,
   "id": "a46c7cbc-50a8-4af3-af7f-eba161d3dc5a",
   "metadata": {
    "execution": {
     "iopub.execute_input": "2025-04-23T00:21:49.803010Z",
     "iopub.status.busy": "2025-04-23T00:21:49.802822Z",
     "iopub.status.idle": "2025-04-23T00:21:49.816580Z",
     "shell.execute_reply": "2025-04-23T00:21:49.816392Z",
     "shell.execute_reply.started": "2025-04-23T00:21:49.802999Z"
    }
   },
   "outputs": [],
   "source": [
    "def smooth_x(x,c,d): \n",
    "    sig_fft = fft(x)\n",
    "    sig_fft_filtered = sig_fft.copy()\n",
    "    freq = fftfreq(len(x), d=1/100)\n",
    "    cut_off = c\n",
    "    sig_fft_filtered[np.abs(freq) > cut_off] = 0\n",
    "    filtered = ifft(sig_fft_filtered)\n",
    "    return filtered \n",
    "\n",
    "\n",
    "def smooth_t(x,c_min,c_max,d):\n",
    "    sig_fft = fft(x)\n",
    "    sig_fft_filtered = sig_fft.copy()\n",
    "    freq = fftfreq(len(x), d=1/100)\n",
    "    \n",
    "    sig_fft_filtered[np.abs(freq) > c_max] = 0\n",
    "    sig_fft_filtered[np.abs(freq) < c_min] = 0\n",
    "    \n",
    "    filtered = ifft(sig_fft_filtered)\n",
    "    return filtered"
   ]
  },
  {
   "cell_type": "code",
   "execution_count": 129,
   "id": "9c13e756-a024-400f-8490-eb62000b08b1",
   "metadata": {
    "execution": {
     "iopub.execute_input": "2025-04-23T00:21:50.785803Z",
     "iopub.status.busy": "2025-04-23T00:21:50.785616Z",
     "iopub.status.idle": "2025-04-23T00:21:52.450906Z",
     "shell.execute_reply": "2025-04-23T00:21:52.450637Z",
     "shell.execute_reply.started": "2025-04-23T00:21:50.785793Z"
    }
   },
   "outputs": [
    {
     "name": "stdout",
     "output_type": "stream",
     "text": [
      "(9125, 288) (9125, 288)\n",
      "(9125, 288) (9125, 288)\n",
      "(9125, 288) (9125, 288)\n",
      "(9125, 288) (9125, 288)\n"
     ]
    },
    {
     "name": "stderr",
     "output_type": "stream",
     "text": [
      "/tmp/ipykernel_1397786/2776636864.py:19: ComplexWarning: Casting complex values to real discards the imaginary part\n",
      "  smoothen_ano[:,i,:] = ifftn(temp2)\n"
     ]
    },
    {
     "name": "stdout",
     "output_type": "stream",
     "text": [
      "(9125, 288) (9125, 288)\n",
      "(9125, 288) (9125, 288)\n",
      "(9125, 288) (9125, 288)\n",
      "(9125, 288) (9125, 288)\n",
      "(9125, 288) (9125, 288)\n",
      "(9125, 288) (9125, 288)\n",
      "(9125, 288) (9125, 288)\n",
      "(9125, 288) (9125, 288)\n",
      "(9125, 288) (9125, 288)\n",
      "(9125, 288) (9125, 288)\n",
      "(9125, 288) (9125, 288)\n",
      "(9125, 288) (9125, 288)\n",
      "(9125, 288) (9125, 288)\n",
      "(9125, 288) (9125, 288)\n",
      "(9125, 288) (9125, 288)\n",
      "(9125, 288) (9125, 288)\n",
      "(9125, 288) (9125, 288)\n",
      "(9125, 288) (9125, 288)\n",
      "(9125, 288) (9125, 288)\n",
      "(9125, 288) (9125, 288)\n",
      "(9125, 288) (9125, 288)\n",
      "(9125, 288) (9125, 288)\n",
      "(9125, 288) (9125, 288)\n",
      "(9125, 288) (9125, 288)\n",
      "(9125, 288) (9125, 288)\n",
      "(9125, 288) (9125, 288)\n",
      "(9125, 288) (9125, 288)\n",
      "(9125, 288) (9125, 288)\n"
     ]
    }
   ],
   "source": [
    "smoothen_ano = np.zeros_like(anomaly)\n",
    "# time, lat, lon  \n",
    "shp = anomaly.shape\n",
    "\n",
    "for i in range(shp[1]): \n",
    "    ffted_data = fftn(anomaly[:,i,:].to_numpy())\n",
    "    freq_t     = fftfreq(shp[0],d=1) #day\n",
    "    freq_t     = np.where( (freq_t>(-1/20)) & (freq_t<(-1/100)) ,1,0)\n",
    "\n",
    "    #freq_x     = fftfreq(shp[2],d=1)\n",
    "    #kx = fftfreq(Nlon, d=dlon)\n",
    "    kx         = fftfreq(shp[2], d=1.25)\n",
    "    freq_x     = np.where(kx<10,1,0)\n",
    "\n",
    "    xx,tt = np.meshgrid(freq_x,freq_t) \n",
    "    print(tt.shape,xx.shape)\n",
    "    temp2  = np.where((tt+xx)>1.1,ffted_data,0)\n",
    "    \n",
    "    smoothen_ano[:,i,:] = ifftn(temp2) \n",
    "    \n",
    "    "
   ]
  },
  {
   "cell_type": "code",
   "execution_count": 130,
   "id": "9670d522-2af8-4831-a6c7-eb1f1bbd8d7d",
   "metadata": {
    "execution": {
     "iopub.execute_input": "2025-04-23T00:21:53.654926Z",
     "iopub.status.busy": "2025-04-23T00:21:53.654629Z",
     "iopub.status.idle": "2025-04-23T00:21:53.784269Z",
     "shell.execute_reply": "2025-04-23T00:21:53.784067Z",
     "shell.execute_reply.started": "2025-04-23T00:21:53.654915Z"
    }
   },
   "outputs": [
    {
     "data": {
      "text/plain": [
       "Text(0.5, 1.0, 'Precip. Flux')"
      ]
     },
     "execution_count": 130,
     "metadata": {},
     "output_type": "execute_result"
    },
    {
     "data": {
      "image/png": "[encoded data removed]",
      "text/plain": [
       "<Figure size 640x480 with 2 Axes>"
      ]
     },
     "metadata": {},
     "output_type": "display_data"
    }
   ],
   "source": [
    "smoothen_ano.shape\n",
    "smoothen_ano_ave = np.mean(smoothen_ano,axis=1)\n",
    "plt.contourf(smoothen_ano_ave[:365,:])\n",
    "plt.colorbar()\n",
    "plt.title('Precip. Flux')\n",
    "#plt.xlim(60,120)\n",
    "#plt.colorbar()"
   ]
  },
  {
   "cell_type": "code",
   "execution_count": 131,
   "id": "978c3847-45b1-44e4-866a-d3f66ca8f42f",
   "metadata": {
    "execution": {
     "iopub.execute_input": "2025-04-23T00:21:57.882577Z",
     "iopub.status.busy": "2025-04-23T00:21:57.882393Z",
     "iopub.status.idle": "2025-04-23T00:21:57.897470Z",
     "shell.execute_reply": "2025-04-23T00:21:57.897287Z",
     "shell.execute_reply.started": "2025-04-23T00:21:57.882567Z"
    }
   },
   "outputs": [
    {
     "data": {
      "text/plain": [
       "(288,)"
      ]
     },
     "execution_count": 131,
     "metadata": {},
     "output_type": "execute_result"
    }
   ],
   "source": [
    "sigma_p = np.std(smoothen_ano_ave,axis=0)\n",
    "sigma_p.shape"
   ]
  },
  {
   "cell_type": "code",
   "execution_count": 181,
   "id": "990da78f-07b6-4ed9-8c03-6e21485b9111",
   "metadata": {
    "execution": {
     "iopub.execute_input": "2025-04-23T01:02:26.464835Z",
     "iopub.status.busy": "2025-04-23T01:02:26.464602Z",
     "iopub.status.idle": "2025-04-23T01:02:26.478938Z",
     "shell.execute_reply": "2025-04-23T01:02:26.478726Z",
     "shell.execute_reply.started": "2025-04-23T01:02:26.464824Z"
    }
   },
   "outputs": [],
   "source": [
    "def fill_gap(arr,gap_threshold):\n",
    "    # Step 1: find where gaps are\n",
    "    is_gap = arr == 0\n",
    "    \n",
    "    # Step 2: identify gap runs using np.diff\n",
    "    gap_starts = np.where(np.diff(np.concatenate(([0], is_gap.astype(int)))) == 1)[0]\n",
    "    gap_ends = np.where(np.diff(np.concatenate((is_gap.astype(int), [0]))) == -1)[0]\n",
    "    \n",
    "    # Step 3: fill gaps that are smaller than the threshold\n",
    "    for start, end in zip(gap_starts, gap_ends):\n",
    "        if (end - start) <= gap_threshold:\n",
    "            arr[start:end+1] = 1\n",
    "    \n",
    "    return arr \n",
    "\n",
    "def A(t0,x0,s_slope,xx):  # draw the line with given s \n",
    "    return s_slope*(xx - x0*np.ones(len(xx)) ) + t0 \n",
    "\n",
    "def biggest_conn_component(arr):\n",
    "    # Step 1: find where gaps are\n",
    "    is_gap = arr == 1  # originally, gap=0, now we set gap=1 to get connected component \n",
    "    \n",
    "    # Step 2: identify gap runs using np.diff\n",
    "    gap_starts = np.where(np.diff(np.concatenate(([0], is_gap.astype(int)))) == 1)[0]\n",
    "    gap_ends = np.where(np.diff(np.concatenate((is_gap.astype(int), [0]))) == -1)[0]\n",
    "\n",
    "    try: \n",
    "        idx = np.argmax(gap_ends-gap_starts)\n",
    "        return gap_starts[idx], gap_ends[idx]\n",
    "    except: \n",
    "        return 0,0\n",
    "    \n",
    "    "
   ]
  },
  {
   "cell_type": "code",
   "execution_count": 182,
   "id": "c28b7358-83f7-4a82-8760-96f1baa12584",
   "metadata": {
    "execution": {
     "iopub.execute_input": "2025-04-23T01:02:27.137824Z",
     "iopub.status.busy": "2025-04-23T01:02:27.137422Z",
     "iopub.status.idle": "2025-04-23T01:02:27.151413Z",
     "shell.execute_reply": "2025-04-23T01:02:27.151216Z",
     "shell.execute_reply.started": "2025-04-23T01:02:27.137813Z"
    }
   },
   "outputs": [],
   "source": [
    "def get_intensity(s,t0): \n",
    "\n",
    "    tt = np.arange(0,shp[0],1)\n",
    "    xx = np.arange(0,shp[2],1)\n",
    "\n",
    "    points = (tt,xx) \n",
    "    \n",
    "    s_slope = s*((6400*1000)/(shp[2]*86400)) # lon/day \n",
    "    #print(s_slope)\n",
    "    \n",
    "    t_line = A(t0,70,s_slope,xx) \n",
    "    \n",
    "    \n",
    "    \n",
    "    temp  = interpn(points, smoothen_ano_ave , (t_line[t_line>0],xx[t_line>0])  )\n",
    "    temp2 = np.where((temp-sigma_p[t_line>0])>0,1,0)\n",
    "    \n",
    "    #plt.plot(xx[t_line>0],temp)\n",
    "    #plt.plot(xx,sigma_p)\n",
    "    dlon = lon[1]-lon[0]\n",
    "    #print(dlon)\n",
    "    #plt.plot(xx[t_line>0],temp2)\n",
    "    \n",
    "    temp3 = fill_gap(temp2,round(10/dlon.item()) )\n",
    "    #plt.plot(xx[t_line>0],temp3)\n",
    "    \n",
    "    idx_b,idx_t = biggest_conn_component(temp3)\n",
    "    \n",
    "    big_segment_xx = xx[t_line>0][idx_b:idx_t]\n",
    "    big_segment_tt = A(t0,70,s_slope,big_segment_xx)\n",
    "    big_segment_pp = interpn(points, smoothen_ano_ave , (big_segment_tt,big_segment_xx)  )\n",
    "    \n",
    "    intensity = np.trapz(big_segment_pp, big_segment_xx,dx = 1+s_slope**2  )\n",
    "    return intensity\n"
   ]
  },
  {
   "cell_type": "code",
   "execution_count": 187,
   "id": "ebeffe2b-daff-4fa9-a83c-dc3e40a79e45",
   "metadata": {
    "execution": {
     "iopub.execute_input": "2025-04-23T01:05:37.234651Z",
     "iopub.status.busy": "2025-04-23T01:05:37.234467Z",
     "iopub.status.idle": "2025-04-23T01:05:53.252521Z",
     "shell.execute_reply": "2025-04-23T01:05:53.252231Z",
     "shell.execute_reply.started": "2025-04-23T01:05:37.234640Z"
    }
   },
   "outputs": [],
   "source": [
    "num_speed = 16 \n",
    "num_time  = 1000 \n",
    "sss = np.linspace(0.5,num_speed,num_speed*2)\n",
    "ttt = np.arange(0,num_time+0.01,1)\n",
    "\n",
    "intensity_hoff = np.zeros((len(sss),len(ttt))) \n",
    "for i in range(len(sss)): \n",
    "    for j in range(len(ttt)): \n",
    "        intensity_hoff[i,j] = get_intensity(sss[i],ttt[j])\n"
   ]
  },
  {
   "cell_type": "code",
   "execution_count": 190,
   "id": "fbf906da-2757-4f09-aba0-97059410dd4a",
   "metadata": {
    "execution": {
     "iopub.execute_input": "2025-04-23T01:07:11.804032Z",
     "iopub.status.busy": "2025-04-23T01:07:11.803846Z",
     "iopub.status.idle": "2025-04-23T01:07:11.870648Z",
     "shell.execute_reply": "2025-04-23T01:07:11.870459Z",
     "shell.execute_reply.started": "2025-04-23T01:07:11.804021Z"
    }
   },
   "outputs": [
    {
     "data": {
      "text/plain": [
       "<matplotlib.contour.QuadContourSet at 0x7f2710794e00>"
      ]
     },
     "execution_count": 190,
     "metadata": {},
     "output_type": "execute_result"
    },
    {
     "data": {
      "image/png": "[encoded data removed]",
      "text/plain": [
       "<Figure size 640x480 with 1 Axes>"
      ]
     },
     "metadata": {},
     "output_type": "display_data"
    }
   ],
   "source": [
    "plt.contourf(sss,ttt,intensity_hoff.T)"
   ]
  },
  {
   "cell_type": "code",
   "execution_count": 201,
   "id": "be6784e7-9218-4470-8bdd-932e8bb5776d",
   "metadata": {
    "execution": {
     "iopub.execute_input": "2025-04-23T01:17:48.378077Z",
     "iopub.status.busy": "2025-04-23T01:17:48.377894Z",
     "iopub.status.idle": "2025-04-23T01:17:49.473707Z",
     "shell.execute_reply": "2025-04-23T01:17:49.473519Z",
     "shell.execute_reply.started": "2025-04-23T01:17:48.378067Z"
    }
   },
   "outputs": [
    {
     "data": {
      "text/plain": [
       "<matplotlib.colorbar.Colorbar at 0x7f27207df9e0>"
      ]
     },
     "execution_count": 201,
     "metadata": {},
     "output_type": "execute_result"
    },
    {
     "data": {
      "image/png": "[encoded data removed]",
      "text/plain": [
       "<Figure size 640x480 with 2 Axes>"
      ]
     },
     "metadata": {},
     "output_type": "display_data"
    }
   ],
   "source": [
    "smoothen_ano.shape\n",
    "smoothen_ano_ave = np.mean(smoothen_ano,axis=1)\n",
    "plt.contourf(smoothen_ano_ave[:,:])\n",
    "plt.title('Precip. Flux')\n",
    "plt.ylim(720,760)\n",
    "plt.xlim(60,240)\n",
    "plt.colorbar()"
   ]
  },
  {
   "cell_type": "code",
   "execution_count": null,
   "id": "14b7a84b-aed1-4f8d-839c-a22493468579",
   "metadata": {},
   "outputs": [],
   "source": []
  }
 ],
 "metadata": {
  "kernelspec": {
   "display_name": "Python [conda env:dedalus3]",
   "language": "python",
   "name": "conda-env-dedalus3-py"
  },
  "language_info": {
   "codemirror_mode": {
    "name": "ipython",
    "version": 3
   },
   "file_extension": ".py",
   "mimetype": "text/x-python",
   "name": "python",
   "nbconvert_exporter": "python",
   "pygments_lexer": "ipython3",
   "version": "3.12.4"
  }
 },
 "nbformat": 4,
 "nbformat_minor": 5
}
