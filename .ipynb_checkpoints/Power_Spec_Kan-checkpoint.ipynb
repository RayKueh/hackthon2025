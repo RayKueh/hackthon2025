{
 "cells": [
  {
   "cell_type": "markdown",
   "id": "7e5689a6-2003-4ed0-af9f-8e091348ec29",
   "metadata": {},
   "source": [
    "# Power spectrum of CNTL and NCRF"
   ]
  },
  {
   "cell_type": "markdown",
   "id": "9607c9f7-b252-4e53-9178-4e4176bf085e",
   "metadata": {},
   "source": [
    "## Load data\n"
   ]
  },
  {
   "cell_type": "code",
   "execution_count": 19,
   "id": "69257ce3-a595-4527-84f9-48f617957dfd",
   "metadata": {
    "execution": {
     "iopub.execute_input": "2025-05-13T00:41:32.912994Z",
     "iopub.status.busy": "2025-05-13T00:41:32.912387Z",
     "iopub.status.idle": "2025-05-13T00:41:32.914933Z",
     "shell.execute_reply": "2025-05-13T00:41:32.914701Z",
     "shell.execute_reply.started": "2025-05-13T00:41:32.912979Z"
    }
   },
   "outputs": [],
   "source": [
    "import sys;\n",
    "import numpy as np;\n",
    "import xarray as xr;\n",
    "\n",
    "from matplotlib import pyplot as plt;\n",
    "from scipy.ndimage import convolve1d;\n",
    "\n",
    "# Load dispersion relation \n",
    "sys.path.append(\"/home/b11209013/Package\");\n",
    "import Theory as th; #type: ignore"
   ]
  },
  {
   "cell_type": "markdown",
   "id": "dc25d7eb-09bf-4be6-98d7-3cd230e5c6c2",
   "metadata": {},
   "source": [
    "## Load data\n"
   ]
  },
  {
   "cell_type": "code",
   "execution_count": 20,
   "id": "006d1037-9113-4c17-bc6a-0ea8ab32c5bd",
   "metadata": {
    "execution": {
     "iopub.execute_input": "2025-05-13T00:41:33.801760Z",
     "iopub.status.busy": "2025-05-13T00:41:33.801498Z",
     "iopub.status.idle": "2025-05-13T00:41:33.804264Z",
     "shell.execute_reply": "2025-05-13T00:41:33.804043Z",
     "shell.execute_reply.started": "2025-05-13T00:41:33.801749Z"
    }
   },
   "outputs": [
    {
     "data": {
      "text/plain": [
       "'\\n# path\\npath: str = \"/work/b11209013/2024_Research/MPAS/merged_data/\";\\n\\n# Load data\\ndata: dict[str, xr.DataArray] = {}\\n\\n## CNTL theta\\nwith xr.open_dataset(f\"{path}CNTL/theta.nc\") as f:\\n    f = f.sel(lat=slice(-5, 5));\\n    \\n    dims = f.coords;\\n\\n    converter = (1000.0 / dims[\"lev\"]) ** (-0.286);\\n    \\n    data[\"cntl\"] = f[\"theta\"] * converter;\\n\\n## NCRF theta\\nwith xr.open_dataset(f\"{path}NCRF/theta.nc\") as f:\\n    f = f.sel(lat=slice(-5, 5));\\n    \\n    data[\"ncrf\"] = f[\"theta\"] * converter;\\n'"
      ]
     },
     "execution_count": 20,
     "metadata": {},
     "output_type": "execute_result"
    }
   ],
   "source": [
    "'''\n",
    "# path\n",
    "path: str = \"/work/b11209013/2024_Research/MPAS/merged_data/\";\n",
    "\n",
    "# Load data\n",
    "data: dict[str, xr.DataArray] = {}\n",
    "\n",
    "## CNTL theta\n",
    "with xr.open_dataset(f\"{path}CNTL/theta.nc\") as f:\n",
    "    f = f.sel(lat=slice(-5, 5));\n",
    "    \n",
    "    dims = f.coords;\n",
    "\n",
    "    converter = (1000.0 / dims[\"lev\"]) ** (-0.286);\n",
    "    \n",
    "    data[\"cntl\"] = f[\"theta\"] * converter;\n",
    "\n",
    "## NCRF theta\n",
    "with xr.open_dataset(f\"{path}NCRF/theta.nc\") as f:\n",
    "    f = f.sel(lat=slice(-5, 5));\n",
    "    \n",
    "    data[\"ncrf\"] = f[\"theta\"] * converter;\n",
    "'''\n"
   ]
  },
  {
   "cell_type": "code",
   "execution_count": 27,
   "id": "87cccf31-1d57-4ef7-95b8-8c097313066b",
   "metadata": {
    "execution": {
     "iopub.execute_input": "2025-05-13T00:46:41.554034Z",
     "iopub.status.busy": "2025-05-13T00:46:41.553851Z",
     "iopub.status.idle": "2025-05-13T00:46:41.564211Z",
     "shell.execute_reply": "2025-05-13T00:46:41.564038Z",
     "shell.execute_reply.started": "2025-05-13T00:46:41.554023Z"
    }
   },
   "outputs": [
    {
     "data": {
      "text/plain": [
       "(365, 1, 121, 1440)"
      ]
     },
     "execution_count": 27,
     "metadata": {},
     "output_type": "execute_result"
    }
   ],
   "source": [
    "# data[\"ncrf\"]: xarray.DataArray   shape (original) : (time,lev,lat,lon) \n",
    "data_ori = xr.open_dataset('/work/kuoray/Master/jphack/lw_toa_daily.nc')\n",
    "\n",
    "data: dict[str, xr.DataArray] = {}\n",
    "data['lw_toa'] = data_ori['rlut'][:,:,:,:]\n",
    "dims = data_ori.coords\n",
    "\n",
    "data['lw_toa'].shape\n"
   ]
  },
  {
   "cell_type": "markdown",
   "id": "0dd334fe-b691-4656-abc1-09817abd0fd5",
   "metadata": {},
   "source": [
    "### Processing data"
   ]
  },
  {
   "cell_type": "code",
   "execution_count": 22,
   "id": "dd9bb128-19d3-47c8-8f1c-7765071f7678",
   "metadata": {
    "execution": {
     "iopub.execute_input": "2025-05-13T00:41:41.955010Z",
     "iopub.status.busy": "2025-05-13T00:41:41.954426Z",
     "iopub.status.idle": "2025-05-13T00:41:42.948216Z",
     "shell.execute_reply": "2025-05-13T00:41:42.947843Z",
     "shell.execute_reply.started": "2025-05-13T00:41:41.954996Z"
    }
   },
   "outputs": [],
   "source": [
    "# remove climatology and zonal mean\n",
    "data_ano: dict[str, np.ndarray] = {\n",
    "    exp: data[exp] - data[exp].mean(dim={\"time\", \"lon\"})\n",
    "    for exp in data.keys()\n",
    "};\n",
    "\n",
    "# symmetrize and asymmetrize data\n",
    "data_sym: dict[str, np.ndarray] = {\n",
    "    exp: (data_ano[exp] + data_ano[exp].isel(lat=slice(None, None, -1))) / 2.0\n",
    "    for exp in data_ano.keys()\n",
    "};\n",
    "\n",
    "data_asy: dict[str, np.ndarray] = {\n",
    "    exp: (data_ano[exp] - data_ano[exp].isel(lat=slice(None, None, -1))) / 2.0\n",
    "    for exp in data_ano.keys()\n",
    "};\n",
    "\n",
    "# windowing data\n",
    "hanning: np.ndarray = np.hanning(120)[:, None, None, None];\n",
    "\n",
    "sym_window: dict[str, np.ndarray] = {\n",
    "    exp: np.array([\n",
    "        data_sym[exp].isel(time=slice(i*60, i*60+120)) * hanning\n",
    "        for i in range(5)\n",
    "    ])\n",
    "    for exp in data_sym.keys()\n",
    "};\n",
    "\n",
    "asy_window: dict[str, np.ndarray] = {\n",
    "    exp: np.array([\n",
    "        data_asy[exp].isel(time=slice(i*60, i*60+120)) * hanning\n",
    "        for i in range(5)\n",
    "    ])\n",
    "    for exp in data_asy.keys()\n",
    "};"
   ]
  },
  {
   "cell_type": "markdown",
   "id": "f6cff68c-2d65-4348-a532-8718b9980ffe",
   "metadata": {},
   "source": [
    "### Compute power spectrum"
   ]
  },
  {
   "cell_type": "code",
   "execution_count": 26,
   "id": "b4fbe6c7-96a5-4299-ad9b-15c30e2353e0",
   "metadata": {
    "execution": {
     "iopub.execute_input": "2025-05-13T00:45:59.581388Z",
     "iopub.status.busy": "2025-05-13T00:45:59.581212Z",
     "iopub.status.idle": "2025-05-13T00:46:04.823545Z",
     "shell.execute_reply": "2025-05-13T00:46:04.823263Z",
     "shell.execute_reply.started": "2025-05-13T00:45:59.581377Z"
    }
   },
   "outputs": [
    {
     "ename": "IndexError",
     "evalue": "too many indices for array: array is 3-dimensional, but 4 were indexed",
     "output_type": "error",
     "traceback": [
      "\u001b[0;31m---------------------------------------------------------------------------\u001b[0m",
      "\u001b[0;31mIndexError\u001b[0m                                Traceback (most recent call last)",
      "Cell \u001b[0;32mIn[26], line 40\u001b[0m\n\u001b[1;32m     37\u001b[0m     \u001b[38;5;66;03m#data_vint = data_ave \u001b[39;00m\n\u001b[1;32m     38\u001b[0m     \u001b[38;5;28;01mreturn\u001b[39;00m data_vint;\n\u001b[0;32m---> 40\u001b[0m sym_ps_weight: \u001b[38;5;28mdict\u001b[39m[\u001b[38;5;28mstr\u001b[39m, np\u001b[38;5;241m.\u001b[39mndarray] \u001b[38;5;241m=\u001b[39m \u001b[38;5;28mdict\u001b[39m(\n\u001b[1;32m     41\u001b[0m     (exp, vertical_avg(sym_ps[exp], dims[\u001b[38;5;124m\"\u001b[39m\u001b[38;5;124mlev\u001b[39m\u001b[38;5;124m\"\u001b[39m]\u001b[38;5;241m.\u001b[39mvalues))\n\u001b[1;32m     42\u001b[0m     \u001b[38;5;28;01mfor\u001b[39;00m exp \u001b[38;5;129;01min\u001b[39;00m data\u001b[38;5;241m.\u001b[39mkeys()\n\u001b[1;32m     43\u001b[0m );\n\u001b[1;32m     44\u001b[0m asy_ps_weight: \u001b[38;5;28mdict\u001b[39m[\u001b[38;5;28mstr\u001b[39m, np\u001b[38;5;241m.\u001b[39mndarray] \u001b[38;5;241m=\u001b[39m \u001b[38;5;28mdict\u001b[39m(\n\u001b[1;32m     45\u001b[0m     (exp, vertical_avg(asy_ps[exp], dims[\u001b[38;5;124m\"\u001b[39m\u001b[38;5;124mlev\u001b[39m\u001b[38;5;124m\"\u001b[39m]\u001b[38;5;241m.\u001b[39mvalues))\n\u001b[1;32m     46\u001b[0m     \u001b[38;5;28;01mfor\u001b[39;00m exp \u001b[38;5;129;01min\u001b[39;00m data\u001b[38;5;241m.\u001b[39mkeys()\n\u001b[1;32m     47\u001b[0m );\n\u001b[1;32m     50\u001b[0m \u001b[38;5;66;03m## compute background spectra\u001b[39;00m\n",
      "Cell \u001b[0;32mIn[26], line 41\u001b[0m, in \u001b[0;36m<genexpr>\u001b[0;34m(.0)\u001b[0m\n\u001b[1;32m     37\u001b[0m     \u001b[38;5;66;03m#data_vint = data_ave \u001b[39;00m\n\u001b[1;32m     38\u001b[0m     \u001b[38;5;28;01mreturn\u001b[39;00m data_vint;\n\u001b[1;32m     40\u001b[0m sym_ps_weight: \u001b[38;5;28mdict\u001b[39m[\u001b[38;5;28mstr\u001b[39m, np\u001b[38;5;241m.\u001b[39mndarray] \u001b[38;5;241m=\u001b[39m \u001b[38;5;28mdict\u001b[39m(\n\u001b[0;32m---> 41\u001b[0m     (exp, vertical_avg(sym_ps[exp], dims[\u001b[38;5;124m\"\u001b[39m\u001b[38;5;124mlev\u001b[39m\u001b[38;5;124m\"\u001b[39m]\u001b[38;5;241m.\u001b[39mvalues))\n\u001b[1;32m     42\u001b[0m     \u001b[38;5;28;01mfor\u001b[39;00m exp \u001b[38;5;129;01min\u001b[39;00m data\u001b[38;5;241m.\u001b[39mkeys()\n\u001b[1;32m     43\u001b[0m );\n\u001b[1;32m     44\u001b[0m asy_ps_weight: \u001b[38;5;28mdict\u001b[39m[\u001b[38;5;28mstr\u001b[39m, np\u001b[38;5;241m.\u001b[39mndarray] \u001b[38;5;241m=\u001b[39m \u001b[38;5;28mdict\u001b[39m(\n\u001b[1;32m     45\u001b[0m     (exp, vertical_avg(asy_ps[exp], dims[\u001b[38;5;124m\"\u001b[39m\u001b[38;5;124mlev\u001b[39m\u001b[38;5;124m\"\u001b[39m]\u001b[38;5;241m.\u001b[39mvalues))\n\u001b[1;32m     46\u001b[0m     \u001b[38;5;28;01mfor\u001b[39;00m exp \u001b[38;5;129;01min\u001b[39;00m data\u001b[38;5;241m.\u001b[39mkeys()\n\u001b[1;32m     47\u001b[0m );\n\u001b[1;32m     50\u001b[0m \u001b[38;5;66;03m## compute background spectra\u001b[39;00m\n",
      "Cell \u001b[0;32mIn[26], line 30\u001b[0m, in \u001b[0;36mvertical_avg\u001b[0;34m(data, lev)\u001b[0m\n\u001b[1;32m     23\u001b[0m \u001b[38;5;28;01mdef\u001b[39;00m \u001b[38;5;21mvertical_avg\u001b[39m(\n\u001b[1;32m     24\u001b[0m         data: np\u001b[38;5;241m.\u001b[39mndarray,\n\u001b[1;32m     25\u001b[0m         lev : np\u001b[38;5;241m.\u001b[39mndarray,\n\u001b[1;32m     26\u001b[0m ) \u001b[38;5;241m-\u001b[39m\u001b[38;5;241m>\u001b[39m np\u001b[38;5;241m.\u001b[39mndarray:\n\u001b[1;32m     28\u001b[0m     \u001b[38;5;28;01mif\u001b[39;00m \u001b[38;5;28mlen\u001b[39m(lev) \u001b[38;5;241m==\u001b[39m \u001b[38;5;241m1\u001b[39m \u001b[38;5;129;01mor\u001b[39;00m data\u001b[38;5;241m.\u001b[39mshape[\u001b[38;5;241m1\u001b[39m] \u001b[38;5;241m==\u001b[39m \u001b[38;5;241m1\u001b[39m:\n\u001b[1;32m     29\u001b[0m         \u001b[38;5;66;03m# squeeze the lev dimension but keep (time,lat,lon)\u001b[39;00m\n\u001b[0;32m---> 30\u001b[0m         \u001b[38;5;28;01mreturn\u001b[39;00m data[:, \u001b[38;5;241m0\u001b[39m, :, :]\n\u001b[1;32m     31\u001b[0m     data_ave : np\u001b[38;5;241m.\u001b[39mndarray \u001b[38;5;241m=\u001b[39m (data[:, \u001b[38;5;241m1\u001b[39m:]\u001b[38;5;241m*\u001b[39m((lev\u001b[38;5;241m*\u001b[39m\u001b[38;5;241m100.0\u001b[39m)[\u001b[38;5;241m1\u001b[39m:][\u001b[38;5;28;01mNone\u001b[39;00m, :, \u001b[38;5;28;01mNone\u001b[39;00m]) \u001b[38;5;241m+\u001b[39m data[:, :\u001b[38;5;241m-\u001b[39m\u001b[38;5;241m1\u001b[39m]\u001b[38;5;241m*\u001b[39m((lev\u001b[38;5;241m*\u001b[39m\u001b[38;5;241m100.0\u001b[39m)[:\u001b[38;5;241m-\u001b[39m\u001b[38;5;241m1\u001b[39m][\u001b[38;5;28;01mNone\u001b[39;00m, :, \u001b[38;5;28;01mNone\u001b[39;00m])) \u001b[38;5;241m/\u001b[39m\u001b[38;5;241m2.0\u001b[39m;\n\u001b[1;32m     32\u001b[0m     lev_ave  : np\u001b[38;5;241m.\u001b[39mndarray \u001b[38;5;241m=\u001b[39m (lev[\u001b[38;5;241m1\u001b[39m:]\u001b[38;5;241m*\u001b[39m\u001b[38;5;241m100.0\u001b[39m \u001b[38;5;241m+\u001b[39m lev[:\u001b[38;5;241m-\u001b[39m\u001b[38;5;241m1\u001b[39m]\u001b[38;5;241m*\u001b[39m\u001b[38;5;241m100.0\u001b[39m) \u001b[38;5;241m/\u001b[39m \u001b[38;5;241m2.0\u001b[39m;\n",
      "\u001b[0;31mIndexError\u001b[0m: too many indices for array: array is 3-dimensional, but 4 were indexed"
     ]
    }
   ],
   "source": [
    "def power_spec(\n",
    "        data: np.ndarray,\n",
    ") -> np.ndarray:\n",
    "    fft: np.ndarray = np.fft.fft(data, axis=1);\n",
    "    fft: np.ndarray = np.fft.ifft(fft, axis=4) * data.shape[4];\n",
    "\n",
    "    ps : np.ndarray = (fft * fft.conj()) / (data.shape[1] * data.shape[4])**2;\n",
    "\n",
    "    return ps.mean(axis=0).real;\n",
    "\n",
    "sym_ps: dict[str, np.ndarray] = dict(\n",
    "    (exp, power_spec(sym_window[exp]).sum(axis=(2)))\n",
    "    for exp in data.keys()\n",
    ");\n",
    "\n",
    "asy_ps: dict[str, np.ndarray] = dict(\n",
    "    (exp, power_spec(asy_window[exp]).sum(axis=2))\n",
    "    for exp in data.keys()\n",
    ");\n",
    "\n",
    "## vertically integrate both spectra\n",
    "\n",
    "def vertical_avg(\n",
    "        data: np.ndarray,\n",
    "        lev : np.ndarray,\n",
    ") -> np.ndarray:\n",
    "\n",
    "    if len(lev) == 1 :\n",
    "        # squeeze the lev dimension but keep (time,lat,lon)\n",
    "        return data[:, :, :]\n",
    "    data_ave : np.ndarray = (data[:, 1:]*((lev*100.0)[1:][None, :, None]) + data[:, :-1]*((lev*100.0)[:-1][None, :, None])) /2.0;\n",
    "    lev_ave  : np.ndarray = (lev[1:]*100.0 + lev[:-1]*100.0) / 2.0;\n",
    "\n",
    "\n",
    "    \n",
    "    data_vint: np.ndarray = -np.sum(data_ave * np.diff(lev*100.)[None, :, None], axis=1) / -np.sum(lev_ave*np.diff(lev*100.));\n",
    "    #data_vint = data_ave \n",
    "    return data_vint;\n",
    "\n",
    "sym_ps_weight: dict[str, np.ndarray] = dict(\n",
    "    (exp, vertical_avg(sym_ps[exp], dims[\"lev\"].values))\n",
    "    for exp in data.keys()\n",
    ");\n",
    "asy_ps_weight: dict[str, np.ndarray] = dict(\n",
    "    (exp, vertical_avg(asy_ps[exp], dims[\"lev\"].values))\n",
    "    for exp in data.keys()\n",
    ");\n",
    "\n",
    "\n",
    "## compute background spectra\n",
    "def background(data, nsmooth=20):\n",
    "    kernel = np.array([1, 2, 1])\n",
    "    kernel = kernel / kernel.sum()\n",
    "\n",
    "    for _ in range(10):\n",
    "        data = convolve1d(data, kernel, mode='nearest')\n",
    "\n",
    "    data_low  = data[:data.shape[0]//2]\n",
    "    data_high = data[data.shape[0]//2:]\n",
    "\n",
    "    for _ in range(10):\n",
    "        data_low = convolve1d(data_low, kernel, mode='nearest')\n",
    "\n",
    "    for _ in range(40):\n",
    "        data_high = convolve1d(data_high, kernel, mode='nearest')\n",
    "\n",
    "    data = np.concatenate([data_low, data_high], axis=0)\n",
    "\n",
    "    return data\n",
    "\n",
    "bg: np.ndarray = background(\n",
    "   np.fft.fftshift((sym_ps_weight['lw_toa'] + asy_ps_weight['lw_toa'])/2)\n",
    ");\n",
    "\n",
    "sym_peak: dict[str, np.ndarray] = dict(\n",
    "    (exp, np.fft.fftshift(sym_ps_weight[exp]) / bg)\n",
    "    for exp in data.keys()\n",
    ");\n",
    "asy_peak: dict[str, np.ndarray] = dict(\n",
    "    (exp, np.fft.fftshift(asy_ps_weight[exp]) / bg)\n",
    "    for exp in data.keys()\n",
    ");"
   ]
  },
  {
   "cell_type": "markdown",
   "id": "e5072e3a-5eac-4814-8bd3-57fdf3ddc190",
   "metadata": {},
   "source": [
    "### Compute weighted phase speed"
   ]
  },
  {
   "cell_type": "code",
   "execution_count": 24,
   "id": "c3d3594d-2922-4d9a-8916-20b24836c657",
   "metadata": {
    "execution": {
     "iopub.execute_input": "2025-05-13T00:41:49.881228Z",
     "iopub.status.busy": "2025-05-13T00:41:49.881133Z",
     "iopub.status.idle": "2025-05-13T00:41:49.897457Z",
     "shell.execute_reply": "2025-05-13T00:41:49.897216Z",
     "shell.execute_reply.started": "2025-05-13T00:41:49.881220Z"
    }
   },
   "outputs": [
    {
     "ename": "IndexError",
     "evalue": "index 2 is out of bounds for axis 1 with size 0",
     "output_type": "error",
     "traceback": [
      "\u001b[0;31m---------------------------------------------------------------------------\u001b[0m",
      "\u001b[0;31mIndexError\u001b[0m                                Traceback (most recent call last)",
      "Cell \u001b[0;32mIn[24], line 29\u001b[0m\n\u001b[1;32m     20\u001b[0m \u001b[38;5;66;03m# compute phase speed\u001b[39;00m\n\u001b[1;32m     21\u001b[0m \u001b[38;5;124;03m'''\u001b[39;00m\n\u001b[1;32m     22\u001b[0m \u001b[38;5;124;03mwn_cntl: float = np.sum(wnm[kelvin_cond] * sym_ps_weight[\"cntl\"][kelvin_cond]) / np.sum(sym_ps_weight[\"cntl\"][kelvin_cond]);\u001b[39;00m\n\u001b[1;32m     23\u001b[0m \u001b[38;5;124;03mfr_cntl: float = np.sum(frm[kelvin_cond] * sym_ps_weight[\"cntl\"][kelvin_cond]) / np.sum(sym_ps_weight[\"cntl\"][kelvin_cond]);\u001b[39;00m\n\u001b[0;32m   (...)\u001b[0m\n\u001b[1;32m     26\u001b[0m \u001b[38;5;124;03mfr_ncrf: float = np.sum(frm[kelvin_cond] * sym_ps_weight[\"ncrf\"][kelvin_cond]) / np.sum(sym_ps_weight[\"ncrf\"][kelvin_cond]);\u001b[39;00m\n\u001b[1;32m     27\u001b[0m \u001b[38;5;124;03m'''\u001b[39;00m\n\u001b[0;32m---> 29\u001b[0m wn_ncrf: \u001b[38;5;28mfloat\u001b[39m \u001b[38;5;241m=\u001b[39m np\u001b[38;5;241m.\u001b[39msum(wnm[kelvin_cond] \u001b[38;5;241m*\u001b[39m sym_ps_weight[\u001b[38;5;124m'\u001b[39m\u001b[38;5;124mlw_toa\u001b[39m\u001b[38;5;124m'\u001b[39m][kelvin_cond]) \u001b[38;5;241m/\u001b[39m np\u001b[38;5;241m.\u001b[39msum(sym_ps_weight[\u001b[38;5;124m'\u001b[39m\u001b[38;5;124mlw_toa\u001b[39m\u001b[38;5;124m'\u001b[39m][kelvin_cond]);\n\u001b[1;32m     30\u001b[0m fr_ncrf: \u001b[38;5;28mfloat\u001b[39m \u001b[38;5;241m=\u001b[39m np\u001b[38;5;241m.\u001b[39msum(frm[kelvin_cond] \u001b[38;5;241m*\u001b[39m sym_ps_weight[\u001b[38;5;124m'\u001b[39m\u001b[38;5;124mlw_toa\u001b[39m\u001b[38;5;124m'\u001b[39m][kelvin_cond]) \u001b[38;5;241m/\u001b[39m np\u001b[38;5;241m.\u001b[39msum(sym_ps_weight[\u001b[38;5;124m'\u001b[39m\u001b[38;5;124mlw_toa\u001b[39m\u001b[38;5;124m'\u001b[39m][kelvin_cond]);\n\u001b[1;32m     34\u001b[0m phase_speed \u001b[38;5;241m=\u001b[39m \u001b[38;5;28;01mlambda\u001b[39;00m wn, fr: fr \u001b[38;5;241m/\u001b[39m wn \u001b[38;5;241m*\u001b[39m (\u001b[38;5;241m2\u001b[39m\u001b[38;5;241m*\u001b[39mnp\u001b[38;5;241m.\u001b[39mpi\u001b[38;5;241m*\u001b[39m\u001b[38;5;241m6.371e6\u001b[39m) \u001b[38;5;241m/\u001b[39m \u001b[38;5;241m86400\u001b[39m;\n",
      "\u001b[0;31mIndexError\u001b[0m: index 2 is out of bounds for axis 1 with size 0"
     ]
    }
   ],
   "source": [
    "# assign coordinate\n",
    "wn: np.ndarray = (np.fft.fftfreq(720, d=1/720).astype(int));\n",
    "fr: np.ndarray = (np.fft.fftfreq(120, d=1/4));\n",
    "\n",
    "wnm, frm = np.meshgrid(wn, fr);\n",
    "\n",
    "\n",
    "fr_ana, wn_ana = th.genDispersionCurves(Ahe=[8, 25, 90]);\n",
    "e_cond = np.where(wn_ana[3, 0] <= 0)[0];\n",
    "\n",
    "# define the range of kevin waves\n",
    "kelvin = lambda wn, eq: wn * np.sqrt(9.81*eq) * 86400 / (2*np.pi*6.371e6);\n",
    "kelvin_inv = lambda fr, eq: fr * (2*np.pi*6.371e6) / (86400 * np.sqrt(9.81*eq));\n",
    "\n",
    "kelvin_cond: tuple[int] = np.where(\n",
    "    (wnm >= 1) & (wnm <= 14) & (frm >= 1/20) & (frm <= 1/2.5) &\n",
    "    (frm >= kelvin(wnm, 8)) & (frm <= kelvin(wnm, 90))\n",
    "); # only define positive frequencies\n",
    "\n",
    "# compute phase speed\n",
    "'''\n",
    "wn_cntl: float = np.sum(wnm[kelvin_cond] * sym_ps_weight[\"cntl\"][kelvin_cond]) / np.sum(sym_ps_weight[\"cntl\"][kelvin_cond]);\n",
    "fr_cntl: float = np.sum(frm[kelvin_cond] * sym_ps_weight[\"cntl\"][kelvin_cond]) / np.sum(sym_ps_weight[\"cntl\"][kelvin_cond]);\n",
    "\n",
    "wn_ncrf: float = np.sum(wnm[kelvin_cond] * sym_ps_weight[\"ncrf\"][kelvin_cond]) / np.sum(sym_ps_weight[\"ncrf\"][kelvin_cond]);\n",
    "fr_ncrf: float = np.sum(frm[kelvin_cond] * sym_ps_weight[\"ncrf\"][kelvin_cond]) / np.sum(sym_ps_weight[\"ncrf\"][kelvin_cond]);\n",
    "'''\n",
    "\n",
    "wn_ncrf: float = np.sum(wnm[kelvin_cond] * sym_ps_weight['lw_toa'][kelvin_cond]) / np.sum(sym_ps_weight['lw_toa'][kelvin_cond]);\n",
    "fr_ncrf: float = np.sum(frm[kelvin_cond] * sym_ps_weight['lw_toa'][kelvin_cond]) / np.sum(sym_ps_weight['lw_toa'][kelvin_cond]);\n",
    "\n",
    "\n",
    "\n",
    "phase_speed = lambda wn, fr: fr / wn * (2*np.pi*6.371e6) / 86400;\n",
    "\n",
    "cntl_speed: float = phase_speed(wn_cntl, fr_cntl);\n",
    "ncrf_speed: float = phase_speed(wn_ncrf, fr_ncrf);"
   ]
  },
  {
   "cell_type": "markdown",
   "id": "5467940a-9eda-4098-8034-92ee6763dfe1",
   "metadata": {},
   "source": [
    "### Plot out the Power spectrum"
   ]
  },
  {
   "cell_type": "markdown",
   "id": "95c13b4b-32d4-4292-8ad8-20742a303a85",
   "metadata": {},
   "source": [
    "#### Define plotting functions"
   ]
  },
  {
   "cell_type": "code",
   "execution_count": 18,
   "id": "24a20b66-8838-4a1f-aadc-72b9bdaabe0f",
   "metadata": {
    "execution": {
     "iopub.execute_input": "2025-05-13T00:41:24.480194Z",
     "iopub.status.busy": "2025-05-13T00:41:24.479928Z",
     "iopub.status.idle": "2025-05-13T00:41:24.484281Z",
     "shell.execute_reply": "2025-05-13T00:41:24.484034Z",
     "shell.execute_reply.started": "2025-05-13T00:41:24.480183Z"
    }
   },
   "outputs": [],
   "source": [
    "def plot_lines(\n",
    "    ax: plt.Axes,\n",
    "    wn_ana: np.ndarray,\n",
    "    fr_ana: np.ndarray,\n",
    ") -> None:\n",
    "    for i in range(3):\n",
    "        ax.plot(wn_ana[3, i, e_cond], fr_ana[3, i, e_cond], color=\"black\", linewidth=1);\n",
    "        ax.plot(wn_ana[4, i], fr_ana[4, i], color=\"black\", linewidth=1);\n",
    "        ax.plot(wn_ana[3, i], fr_ana[5, i], color=\"black\", linewidth=1);\n",
    "\n",
    "    ax.set_xticks(np.linspace(-14, 14, 8, dtype=int));\n",
    "    ax.set_yticks(np.linspace(0, 0.5, 6));\n",
    "    ax.hlines(y=1/20, xmin=1, xmax=kelvin_inv(1/20, 8), linestyle=\"-\", color=\"red\", linewidth=5);\n",
    "    ax.hlines(y=1/2.5, xmin=kelvin_inv(1/2.5, 90), xmax=14, linestyle=\"-\", color=\"red\", linewidth=5);\n",
    "    ax.vlines(x=1, ymin=1/20, ymax=kelvin(1, 90), linestyle=\"-\", color=\"red\", linewidth=5);\n",
    "    ax.vlines(x=14, ymin=kelvin(14, 8), ymax=1/2.5, linestyle=\"-\", color=\"red\", linewidth=5);\n",
    "    ax.plot(np.linspace(kelvin_inv(1/20, 90), kelvin_inv(1/2.5, 90), 100), kelvin(np.linspace(kelvin_inv(1/20, 90), kelvin_inv(1/2.5, 90), 100), 90), color=\"red\", linewidth=5);\n",
    "    ax.plot(np.linspace(kelvin_inv(1/20, 8), 14, 100), kelvin(np.linspace(kelvin_inv(1/20, 8), 14, 100), 8), color=\"red\", linewidth=5);\n",
    "    ax.axvline(0, linestyle=\"--\", color=\"black\")\n",
    "    ax.axhline(1/3 , linestyle=\"--\", color=\"black\");\n",
    "    ax.axhline(1/8 , linestyle=\"--\", color=\"black\");\n",
    "    ax.axhline(1/20, linestyle=\"--\", color=\"black\");\n",
    "    ax.text(15, 1/3 , \"3 Days\", ha=\"right\", va=\"bottom\", fontsize=20);\n",
    "    ax.text(15, 1/8 , \"8 Days\", ha=\"right\", va=\"bottom\", fontsize=20);\n",
    "    ax.text(15, 1/20, \"20 Days\", ha=\"right\", va=\"bottom\", fontsize=20);"
   ]
  },
  {
   "cell_type": "markdown",
   "id": "df476080-3bd5-4390-b045-464595811490",
   "metadata": {},
   "source": [
    "#### Raw spectra"
   ]
  },
  {
   "cell_type": "code",
   "execution_count": null,
   "id": "1bc0ff9f-4e38-404f-b60e-049a84b7edf6",
   "metadata": {
    "execution": {
     "iopub.status.busy": "2025-05-10T00:45:06.442352Z",
     "iopub.status.idle": "2025-05-10T00:45:06.442458Z",
     "shell.execute_reply": "2025-05-10T00:45:06.442407Z",
     "shell.execute_reply.started": "2025-05-10T00:45:06.442403Z"
    }
   },
   "outputs": [],
   "source": [
    "plt.rcParams.update({\n",
    "    \"font.family\": \"serif\",\n",
    "    \"mathtext.fontset\": \"cm\",\n",
    "    \"axes.titlesize\": 40,\n",
    "    \"axes.labelsize\": 32,\n",
    "    \"xtick.labelsize\": 26,\n",
    "    \"ytick.labelsize\": 26,\n",
    "    \"figure.figsize\": (20, 12),\n",
    "});\n",
    "\n",
    "wn_v: np.ndarray = np.fft.fftshift(wn);\n",
    "fr_v: np.ndarray = np.fft.fftshift(fr);\n",
    "\n",
    "fig, ax = plt.subplots(1, 2, sharey=True);\n",
    "\n",
    "cntl_raw = ax[0].contourf(\n",
    "    wn_v,\n",
    "    fr_v[fr_v>0],\n",
    "    np.log(np.fft.fftshift(sym_ps_weight[\"cntl\"])[fr_v>0]*2.0),\n",
    "    levels=np.linspace(-7, 0, 15),\n",
    "    cmap=\"Blues\"\n",
    ");\n",
    "plot_lines(ax[0], wn_ana, fr_ana);\n",
    "ax[0].set_xlim(-15, 15);\n",
    "ax[0].set_ylim(0, 0.5);\n",
    "ax[0].set_title(f\"CNTL: {cntl_speed:.2f} [m/s]\");\n",
    "ax[0].set_xlabel(\"Zonal Wavenumber\");\n",
    "ax[0].set_ylabel(\"Frequency [CPD]\");\n",
    "\n",
    "ncrf_raw = ax[1].contourf(\n",
    "    wn_v,\n",
    "    fr_v[fr_v>0],\n",
    "    np.log(np.fft.fftshift(sym_ps_weight[\"ncrf\"])[fr_v>0]*2.0),\n",
    "    levels=np.linspace(-7, 0, 15),\n",
    "    cmap=\"Blues\"\n",
    ");\n",
    "plot_lines(ax[1], wn_ana, fr_ana);\n",
    "ax[1].set_xlim(-15, 15);\n",
    "ax[1].set_ylim(0, 0.5);\n",
    "ax[1].set_title(f\"NCRF: {ncrf_speed:.2f} [m/s]\");\n",
    "ax[1].set_xlabel(\"Zonal Wavenumber\");\n",
    "\n",
    "plt.colorbar(\n",
    "    cntl_raw, ax=ax,\n",
    "    orientation=\"horizontal\",\n",
    "    shrink=0.8, aspect=50,\n",
    "    label=r\"Raw Power [$K^2$]\"\n",
    ");\n",
    "plt.savefig(\"/home/b11209013/Bachelor_Thesis/Figure/NCRF_raw_power.png\")"
   ]
  },
  {
   "cell_type": "markdown",
   "id": "7436bd94-e354-4705-aea3-50f83d5466d9",
   "metadata": {},
   "source": [
    "#### Normalized spectrum"
   ]
  },
  {
   "cell_type": "code",
   "execution_count": null,
   "id": "193b9803-6f3e-4f74-b456-c2a5969c47b7",
   "metadata": {
    "execution": {
     "iopub.status.busy": "2025-05-10T00:45:06.443073Z",
     "iopub.status.idle": "2025-05-10T00:45:06.443175Z",
     "shell.execute_reply": "2025-05-10T00:45:06.443127Z",
     "shell.execute_reply.started": "2025-05-10T00:45:06.443123Z"
    }
   },
   "outputs": [],
   "source": [
    "fig, ax = plt.subplots(1, 2, sharey=True);\n",
    "\n",
    "cntl_raw = ax[0].contourf(\n",
    "    wn_v,\n",
    "    fr_v[fr_v>0],\n",
    "    sym_peak[\"cntl\"][fr_v>0],\n",
    "    levels=np.linspace(1, 10, 10),\n",
    "    cmap=\"Blues\", extend=\"max\"\n",
    ");\n",
    "plot_lines(ax[0], wn_ana, fr_ana);\n",
    "ax[0].set_xlim(-15, 15);\n",
    "ax[0].set_ylim(0, 0.5);\n",
    "ax[0].set_title(f\"CNTL: {cntl_speed:.2f} [m/s]\");\n",
    "ax[0].set_xlabel(\"Zonal Wavenumber\");\n",
    "ax[0].set_ylabel(\"Frequency [CPD]\");\n",
    "\n",
    "ncrf_raw = ax[1].contourf(\n",
    "    wn_v,\n",
    "    fr_v[fr_v>0],\n",
    "    sym_peak[\"ncrf\"][fr_v>0],\n",
    "    levels=np.linspace(1, 10, 10),\n",
    "    cmap=\"Blues\", extend=\"both\"\n",
    ");\n",
    "plot_lines(ax[1], wn_ana, fr_ana);\n",
    "ax[1].set_xlim(-15, 15);\n",
    "ax[1].set_ylim(0, 0.5);\n",
    "ax[1].set_title(f\"NCRF: {ncrf_speed:.2f} [m/s]\");\n",
    "ax[1].set_xlabel(\"Zonal Wavenumber\");\n",
    "\n",
    "plt.colorbar(\n",
    "    cntl_raw, ax=ax,\n",
    "    orientation=\"horizontal\",\n",
    "    shrink=0.8, aspect=50,\n",
    "    label=r\"Normalized Power [$K^2/K^2$]\"\n",
    ");\n",
    "plt.savefig(\"/home/b11209013/Bachelor_Thesis/Figure/NCRF_norm_power.png\")"
   ]
  },
  {
   "cell_type": "code",
   "execution_count": null,
   "id": "c97d4946-d7a8-48f7-9287-2eb9d3df2308",
   "metadata": {},
   "outputs": [],
   "source": []
  }
 ],
 "metadata": {
  "kernelspec": {
   "display_name": "Python [conda env:dedalus3]",
   "language": "python",
   "name": "conda-env-dedalus3-py"
  },
  "language_info": {
   "codemirror_mode": {
    "name": "ipython",
    "version": 3
   },
   "file_extension": ".py",
   "mimetype": "text/x-python",
   "name": "python",
   "nbconvert_exporter": "python",
   "pygments_lexer": "ipython3",
   "version": "3.12.4"
  }
 },
 "nbformat": 4,
 "nbformat_minor": 5
}
